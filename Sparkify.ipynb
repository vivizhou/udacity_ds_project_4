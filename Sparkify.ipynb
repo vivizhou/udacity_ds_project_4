{
 "cells": [
  {
   "cell_type": "markdown",
   "metadata": {},
   "source": [
    "# Sparkify Project Workspace\n",
    "This workspace contains a tiny subset (128MB) of the full dataset available (12GB). Feel free to use this workspace to build your project, or to explore a smaller subset with Spark before deploying your cluster on the cloud. Instructions for setting up your Spark cluster is included in the last lesson of the Extracurricular Spark Course content.\n",
    "\n",
    "You can follow the steps below to guide your data analysis and model building portion of this project."
   ]
  },
  {
   "cell_type": "code",
   "execution_count": 1,
   "metadata": {},
   "outputs": [],
   "source": [
    "# import libraries\n",
    "# Spark libraries\n",
    "from pyspark.sql import SparkSession, Window\n",
    "from pyspark.sql.functions import avg, stddev, split, udf, isnull, first, col, format_number, rand, approx_count_distinct,count, when\n",
    "from pyspark.sql.functions import min as fmin\n",
    "from pyspark.sql.functions import max as fmax\n",
    "from pyspark.sql.functions import sum as fsum\n",
    "\n",
    "from pyspark.sql.types import IntegerType, FloatType, StringType\n",
    "\n",
    "# Spark ML libraries\n",
    "from pyspark.ml import Pipeline\n",
    "from pyspark.ml.classification import LogisticRegression, DecisionTreeClassifier,RandomForestClassifier, LinearSVC, GBTClassifier\n",
    "from pyspark.ml.feature import StandardScaler, VectorAssembler, StringIndexer\n",
    "from pyspark.ml.evaluation import MulticlassClassificationEvaluator\n",
    "from pyspark.mllib.evaluation import MulticlassMetrics\n",
    "from pyspark.ml.tuning import CrossValidator, ParamGridBuilder\n",
    "\n",
    "# Statistical testing libraries\n",
    "from scipy.stats import chi2_contingency, ttest_ind\n",
    "\n",
    "# python data science libraries\n",
    "import re\n",
    "import time\n",
    "import datetime\n",
    "import numpy as np\n",
    "import pandas as pd\n",
    "import seaborn as sns\n",
    "import matplotlib.pyplot as plt\n",
    "from statsmodels.stats.proportion import proportions_ztest\n",
    "\n",
    "%matplotlib inline"
   ]
  },
  {
   "cell_type": "code",
   "execution_count": 2,
   "metadata": {},
   "outputs": [],
   "source": [
    "# create a Spark session\n",
    "spark = SparkSession.builder \\\n",
    "    .master(\"local\") \\\n",
    "    .appName(\"sparkify_session\") \\\n",
    "    .getOrCreate()"
   ]
  },
  {
   "cell_type": "markdown",
   "metadata": {},
   "source": [
    "# Load and Clean Dataset\n",
    "In this workspace, the mini-dataset file is `mini_sparkify_event_data.json`. Load and clean the dataset, checking for invalid or missing data - for example, records without userids or sessionids. "
   ]
  },
  {
   "cell_type": "code",
   "execution_count": 3,
   "metadata": {},
   "outputs": [
    {
     "name": "stdout",
     "output_type": "stream",
     "text": [
      "+----------------+---------+---------+------+-------------+--------+---------+-----+--------------------+------+--------+-------------+---------+--------------------+------+-------------+--------------------+------+\n",
      "|          artist|     auth|firstName|gender|itemInSession|lastName|   length|level|            location|method|    page| registration|sessionId|                song|status|           ts|           userAgent|userId|\n",
      "+----------------+---------+---------+------+-------------+--------+---------+-----+--------------------+------+--------+-------------+---------+--------------------+------+-------------+--------------------+------+\n",
      "|  Martha Tilston|Logged In|    Colin|     M|           50| Freeman|277.89016| paid|     Bakersfield, CA|   PUT|NextSong|1538173362000|       29|           Rockpools|   200|1538352117000|Mozilla/5.0 (Wind...|    30|\n",
      "|Five Iron Frenzy|Logged In|    Micah|     M|           79|    Long|236.09424| free|Boston-Cambridge-...|   PUT|NextSong|1538331630000|        8|              Canada|   200|1538352180000|\"Mozilla/5.0 (Win...|     9|\n",
      "|    Adam Lambert|Logged In|    Colin|     M|           51| Freeman| 282.8273| paid|     Bakersfield, CA|   PUT|NextSong|1538173362000|       29|   Time For Miracles|   200|1538352394000|Mozilla/5.0 (Wind...|    30|\n",
      "|          Enigma|Logged In|    Micah|     M|           80|    Long|262.71302| free|Boston-Cambridge-...|   PUT|NextSong|1538331630000|        8|Knocking On Forbi...|   200|1538352416000|\"Mozilla/5.0 (Win...|     9|\n",
      "|       Daft Punk|Logged In|    Colin|     M|           52| Freeman|223.60771| paid|     Bakersfield, CA|   PUT|NextSong|1538173362000|       29|Harder Better Fas...|   200|1538352676000|Mozilla/5.0 (Wind...|    30|\n",
      "+----------------+---------+---------+------+-------------+--------+---------+-----+--------------------+------+--------+-------------+---------+--------------------+------+-------------+--------------------+------+\n",
      "only showing top 5 rows\n",
      "\n"
     ]
    }
   ],
   "source": [
    "df = spark.read.json('mini_sparkify_event_data.json')\n",
    "df.show(5)"
   ]
  },
  {
   "cell_type": "code",
   "execution_count": 4,
   "metadata": {},
   "outputs": [
    {
     "name": "stdout",
     "output_type": "stream",
     "text": [
      "root\n",
      " |-- artist: string (nullable = true)\n",
      " |-- auth: string (nullable = true)\n",
      " |-- firstName: string (nullable = true)\n",
      " |-- gender: string (nullable = true)\n",
      " |-- itemInSession: long (nullable = true)\n",
      " |-- lastName: string (nullable = true)\n",
      " |-- length: double (nullable = true)\n",
      " |-- level: string (nullable = true)\n",
      " |-- location: string (nullable = true)\n",
      " |-- method: string (nullable = true)\n",
      " |-- page: string (nullable = true)\n",
      " |-- registration: long (nullable = true)\n",
      " |-- sessionId: long (nullable = true)\n",
      " |-- song: string (nullable = true)\n",
      " |-- status: long (nullable = true)\n",
      " |-- ts: long (nullable = true)\n",
      " |-- userAgent: string (nullable = true)\n",
      " |-- userId: string (nullable = true)\n",
      "\n"
     ]
    }
   ],
   "source": [
    "df.printSchema()"
   ]
  },
  {
   "cell_type": "code",
   "execution_count": 5,
   "metadata": {},
   "outputs": [
    {
     "name": "stdout",
     "output_type": "stream",
     "text": [
      "+----------+\n",
      "|      auth|\n",
      "+----------+\n",
      "| Cancelled|\n",
      "|     Guest|\n",
      "| Logged In|\n",
      "|Logged Out|\n",
      "+----------+\n",
      "\n",
      "+-----+\n",
      "|level|\n",
      "+-----+\n",
      "| free|\n",
      "| paid|\n",
      "+-----+\n",
      "\n",
      "+--------------------+\n",
      "|            location|\n",
      "+--------------------+\n",
      "|                null|\n",
      "|          Albany, OR|\n",
      "|Albany-Schenectad...|\n",
      "|      Alexandria, LA|\n",
      "|Allentown-Bethleh...|\n",
      "|       Anchorage, AK|\n",
      "|Atlanta-Sandy Spr...|\n",
      "|Atlantic City-Ham...|\n",
      "|Austin-Round Rock...|\n",
      "|     Bakersfield, CA|\n",
      "|Baltimore-Columbi...|\n",
      "|        Billings, MT|\n",
      "|Birmingham-Hoover...|\n",
      "|Boston-Cambridge-...|\n",
      "|         Boulder, CO|\n",
      "|         Bozeman, MT|\n",
      "|Bridgeport-Stamfo...|\n",
      "|Buffalo-Cheektowa...|\n",
      "|Charlotte-Concord...|\n",
      "|Chicago-Napervill...|\n",
      "+--------------------+\n",
      "only showing top 20 rows\n",
      "\n",
      "+------+\n",
      "|method|\n",
      "+------+\n",
      "|   GET|\n",
      "|   PUT|\n",
      "+------+\n",
      "\n",
      "+--------------------+\n",
      "|                page|\n",
      "+--------------------+\n",
      "|               About|\n",
      "|          Add Friend|\n",
      "|     Add to Playlist|\n",
      "|              Cancel|\n",
      "|Cancellation Conf...|\n",
      "|           Downgrade|\n",
      "|               Error|\n",
      "|                Help|\n",
      "|                Home|\n",
      "|               Login|\n",
      "|              Logout|\n",
      "|            NextSong|\n",
      "|            Register|\n",
      "|         Roll Advert|\n",
      "|       Save Settings|\n",
      "|            Settings|\n",
      "|    Submit Downgrade|\n",
      "| Submit Registration|\n",
      "|      Submit Upgrade|\n",
      "|         Thumbs Down|\n",
      "+--------------------+\n",
      "only showing top 20 rows\n",
      "\n",
      "+------+\n",
      "|status|\n",
      "+------+\n",
      "|   200|\n",
      "|   307|\n",
      "|   404|\n",
      "+------+\n",
      "\n",
      "+------+\n",
      "|gender|\n",
      "+------+\n",
      "|     F|\n",
      "|  null|\n",
      "|     M|\n",
      "+------+\n",
      "\n"
     ]
    },
    {
     "data": {
      "text/plain": [
       "(None, None)"
      ]
     },
     "execution_count": 5,
     "metadata": {},
     "output_type": "execute_result"
    }
   ],
   "source": [
    "# Check out catogory variables in the data\n",
    "df.select('auth').dropDuplicates().sort('auth').show(), df.select('level').dropDuplicates().sort('level').show(), df.select('location').dropDuplicates().sort('location').show(),\n",
    "df.select('method').dropDuplicates().sort('method').show(), df.select('page').dropDuplicates().sort('page').show(), \n",
    "df.select('status').dropDuplicates().sort('status').show(), df.select('gender').dropDuplicates().show()"
   ]
  },
  {
   "cell_type": "code",
   "execution_count": 6,
   "metadata": {},
   "outputs": [
    {
     "name": "stdout",
     "output_type": "stream",
     "text": [
      "+-------+------------------+\n",
      "|summary|     itemInSession|\n",
      "+-------+------------------+\n",
      "|  count|            286500|\n",
      "|   mean|114.41421291448516|\n",
      "| stddev|129.76726201140994|\n",
      "|    min|                 0|\n",
      "|    max|              1321|\n",
      "+-------+------------------+\n",
      "\n",
      "+-------+-----------------+\n",
      "|summary|           length|\n",
      "+-------+-----------------+\n",
      "|  count|           228108|\n",
      "|   mean|249.1171819778458|\n",
      "| stddev|99.23517921058361|\n",
      "|    min|          0.78322|\n",
      "|    max|       3024.66567|\n",
      "+-------+-----------------+\n",
      "\n",
      "+------+\n",
      "|userId|\n",
      "+------+\n",
      "|      |\n",
      "|    10|\n",
      "|   100|\n",
      "|100001|\n",
      "|100002|\n",
      "|100003|\n",
      "|100004|\n",
      "|100005|\n",
      "|100006|\n",
      "|100007|\n",
      "|100008|\n",
      "|100009|\n",
      "|100010|\n",
      "|100011|\n",
      "|100012|\n",
      "|100013|\n",
      "|100014|\n",
      "|100015|\n",
      "|100016|\n",
      "|100017|\n",
      "+------+\n",
      "only showing top 20 rows\n",
      "\n",
      "+--------------------+\n",
      "|           userAgent|\n",
      "+--------------------+\n",
      "|                null|\n",
      "|\"Mozilla/5.0 (Mac...|\n",
      "|\"Mozilla/5.0 (Mac...|\n",
      "|\"Mozilla/5.0 (Mac...|\n",
      "|\"Mozilla/5.0 (Mac...|\n",
      "|\"Mozilla/5.0 (Mac...|\n",
      "|\"Mozilla/5.0 (Mac...|\n",
      "|\"Mozilla/5.0 (Mac...|\n",
      "|\"Mozilla/5.0 (Mac...|\n",
      "|\"Mozilla/5.0 (Mac...|\n",
      "|\"Mozilla/5.0 (Mac...|\n",
      "|\"Mozilla/5.0 (Mac...|\n",
      "|\"Mozilla/5.0 (Mac...|\n",
      "|\"Mozilla/5.0 (Mac...|\n",
      "|\"Mozilla/5.0 (Mac...|\n",
      "|\"Mozilla/5.0 (Mac...|\n",
      "|\"Mozilla/5.0 (Mac...|\n",
      "|\"Mozilla/5.0 (Mac...|\n",
      "|\"Mozilla/5.0 (Win...|\n",
      "|\"Mozilla/5.0 (Win...|\n",
      "+--------------------+\n",
      "only showing top 20 rows\n",
      "\n"
     ]
    },
    {
     "data": {
      "text/plain": [
       "(None, None, None, None)"
      ]
     },
     "execution_count": 6,
     "metadata": {},
     "output_type": "execute_result"
    }
   ],
   "source": [
    "# Numerical values\n",
    "df.describe('itemInSession').show(), df.describe('length').show() ,df.select('userId').dropDuplicates().sort('userId').show(), df.select('userAgent').dropDuplicates().sort('userAgent').show()"
   ]
  },
  {
   "cell_type": "code",
   "execution_count": 7,
   "metadata": {},
   "outputs": [],
   "source": [
    "# There is empty string for userId and null values for userAgent, gender and location. First excluded the userId empty string.\n",
    "df.filter(df['userId']=='').count()\n",
    "df_clean = df.filter(df['userId'] != '')"
   ]
  },
  {
   "cell_type": "code",
   "execution_count": 8,
   "metadata": {},
   "outputs": [
    {
     "name": "stdout",
     "output_type": "stream",
     "text": [
      "+-------+------------------+\n",
      "|summary|     itemInSession|\n",
      "+-------+------------------+\n",
      "|  count|            278154|\n",
      "|   mean|114.89918174824018|\n",
      "| stddev|  129.851729399489|\n",
      "|    min|                 0|\n",
      "|    max|              1321|\n",
      "+-------+------------------+\n",
      "\n",
      "+-------+-----------------+\n",
      "|summary|           length|\n",
      "+-------+-----------------+\n",
      "|  count|           228108|\n",
      "|   mean|249.1171819778458|\n",
      "| stddev|99.23517921058361|\n",
      "|    min|          0.78322|\n",
      "|    max|       3024.66567|\n",
      "+-------+-----------------+\n",
      "\n",
      "+------+\n",
      "|userId|\n",
      "+------+\n",
      "|    10|\n",
      "|   100|\n",
      "|100001|\n",
      "|100002|\n",
      "|100003|\n",
      "|100004|\n",
      "|100005|\n",
      "|100006|\n",
      "|100007|\n",
      "|100008|\n",
      "|100009|\n",
      "|100010|\n",
      "|100011|\n",
      "|100012|\n",
      "|100013|\n",
      "|100014|\n",
      "|100015|\n",
      "|100016|\n",
      "|100017|\n",
      "|100018|\n",
      "+------+\n",
      "only showing top 20 rows\n",
      "\n",
      "+--------------------+\n",
      "|           userAgent|\n",
      "+--------------------+\n",
      "|\"Mozilla/5.0 (Mac...|\n",
      "|\"Mozilla/5.0 (Mac...|\n",
      "|\"Mozilla/5.0 (Mac...|\n",
      "|\"Mozilla/5.0 (Mac...|\n",
      "|\"Mozilla/5.0 (Mac...|\n",
      "|\"Mozilla/5.0 (Mac...|\n",
      "|\"Mozilla/5.0 (Mac...|\n",
      "|\"Mozilla/5.0 (Mac...|\n",
      "|\"Mozilla/5.0 (Mac...|\n",
      "|\"Mozilla/5.0 (Mac...|\n",
      "|\"Mozilla/5.0 (Mac...|\n",
      "|\"Mozilla/5.0 (Mac...|\n",
      "|\"Mozilla/5.0 (Mac...|\n",
      "|\"Mozilla/5.0 (Mac...|\n",
      "|\"Mozilla/5.0 (Mac...|\n",
      "|\"Mozilla/5.0 (Mac...|\n",
      "|\"Mozilla/5.0 (Mac...|\n",
      "|\"Mozilla/5.0 (Win...|\n",
      "|\"Mozilla/5.0 (Win...|\n",
      "|\"Mozilla/5.0 (Win...|\n",
      "+--------------------+\n",
      "only showing top 20 rows\n",
      "\n"
     ]
    },
    {
     "data": {
      "text/plain": [
       "(None, None, None, None)"
      ]
     },
     "execution_count": 8,
     "metadata": {},
     "output_type": "execute_result"
    }
   ],
   "source": [
    "df_clean.describe('itemInSession').show(), df_clean.describe('length').show() ,df_clean.select('userId').dropDuplicates().sort('userId').show(), df_clean.select('userAgent').dropDuplicates().sort('userAgent').show()"
   ]
  },
  {
   "cell_type": "code",
   "execution_count": 9,
   "metadata": {},
   "outputs": [],
   "source": [
    "# timestamp to datetime format\n",
    "ts_todate = udf(lambda x: datetime.datetime.fromtimestamp(x/1000.0).strftime('%Y-%m-%d %H:%M:%S'))\n",
    "\n",
    "df_clean = df_clean.withColumn('datetime', ts_todate(df_clean.ts))"
   ]
  },
  {
   "cell_type": "code",
   "execution_count": 10,
   "metadata": {},
   "outputs": [
    {
     "data": {
      "text/plain": [
       "[Row(artist='Martha Tilston', auth='Logged In', firstName='Colin', gender='M', itemInSession=50, lastName='Freeman', length=277.89016, level='paid', location='Bakersfield, CA', method='PUT', page='NextSong', registration=1538173362000, sessionId=29, song='Rockpools', status=200, ts=1538352117000, userAgent='Mozilla/5.0 (Windows NT 6.1; WOW64; rv:31.0) Gecko/20100101 Firefox/31.0', userId='30', datetime='2018-10-01 00:01:57')]"
      ]
     },
     "execution_count": 10,
     "metadata": {},
     "output_type": "execute_result"
    }
   ],
   "source": [
    "df_clean.take(1)"
   ]
  },
  {
   "cell_type": "code",
   "execution_count": 11,
   "metadata": {},
   "outputs": [
    {
     "data": {
      "text/plain": [
       "278154"
      ]
     },
     "execution_count": 11,
     "metadata": {},
     "output_type": "execute_result"
    }
   ],
   "source": [
    "df_clean.count()\n"
   ]
  },
  {
   "cell_type": "code",
   "execution_count": 12,
   "metadata": {},
   "outputs": [
    {
     "data": {
      "text/plain": [
       "228108"
      ]
     },
     "execution_count": 12,
     "metadata": {},
     "output_type": "execute_result"
    }
   ],
   "source": [
    "df_clean.na.drop('any').count()"
   ]
  },
  {
   "cell_type": "code",
   "execution_count": 13,
   "metadata": {},
   "outputs": [],
   "source": [
    "df_clean = df_clean.na.drop('any')"
   ]
  },
  {
   "cell_type": "markdown",
   "metadata": {},
   "source": [
    "# Exploratory Data Analysis\n",
    "When you're working with the full dataset, perform EDA by loading a small subset of the data and doing basic manipulations within Spark. In this workspace, you are already provided a small subset of data you can explore.\n",
    "\n",
    "### Define Churn\n",
    "\n",
    "Once you've done some preliminary analysis, create a column `Churn` to use as the label for your model. I suggest using the `Cancellation Confirmation` events to define your churn, which happen for both paid and free users. As a bonus task, you can also look into the `Downgrade` events.\n",
    "\n",
    "### Explore Data\n",
    "Once you've defined churn, perform some exploratory data analysis to observe the behavior for users who stayed vs users who churned. You can start by exploring aggregates on these two groups of users, observing how much of a specific action they experienced per a certain time unit or number of songs played."
   ]
  },
  {
   "cell_type": "code",
   "execution_count": 14,
   "metadata": {},
   "outputs": [],
   "source": [
    "# Explore some of the variables using sql\n",
    "df_clean.createOrReplaceTempView('Sparkify_table')"
   ]
  },
  {
   "cell_type": "code",
   "execution_count": 15,
   "metadata": {},
   "outputs": [
    {
     "name": "stdout",
     "output_type": "stream",
     "text": [
      "+--------+\n",
      "|count(1)|\n",
      "+--------+\n",
      "|  228108|\n",
      "+--------+\n",
      "\n"
     ]
    }
   ],
   "source": [
    "# The total number of entries\n",
    "spark.sql('''\n",
    "\n",
    "        SELECT count(*)\n",
    "        FROM Sparkify_table\n",
    "\n",
    "        ''').show()"
   ]
  },
  {
   "cell_type": "code",
   "execution_count": 16,
   "metadata": {},
   "outputs": [
    {
     "name": "stdout",
     "output_type": "stream",
     "text": [
      "+------------+\n",
      "|Unique_Users|\n",
      "+------------+\n",
      "|         225|\n",
      "+------------+\n",
      "\n"
     ]
    }
   ],
   "source": [
    "# The number of unique users\n",
    "spark.sql('''\n",
    "          SELECT count(DISTINCT userId) as Unique_Users\n",
    "          FROM Sparkify_table\n",
    "            \n",
    "            ''').show()"
   ]
  },
  {
   "cell_type": "code",
   "execution_count": 17,
   "metadata": {},
   "outputs": [
    {
     "name": "stdout",
     "output_type": "stream",
     "text": [
      "+---------+-----------+\n",
      "|     auth|count_users|\n",
      "+---------+-----------+\n",
      "|Logged In|        225|\n",
      "+---------+-----------+\n",
      "\n"
     ]
    }
   ],
   "source": [
    "# The number of users canceled\n",
    "spark.sql('''\n",
    "        SELECT auth, count(DISTINCT userID) as count_users\n",
    "        FROM Sparkify_table\n",
    "        GROUP BY auth\n",
    "        ORDER BY count_users DESC\n",
    "        ''').show()"
   ]
  },
  {
   "cell_type": "code",
   "execution_count": 18,
   "metadata": {},
   "outputs": [
    {
     "name": "stdout",
     "output_type": "stream",
     "text": [
      "+------+-----------+\n",
      "|gender|count_users|\n",
      "+------+-----------+\n",
      "|     M|        121|\n",
      "|     F|        104|\n",
      "+------+-----------+\n",
      "\n"
     ]
    }
   ],
   "source": [
    "# Number of users by gender\n",
    "spark.sql('''\n",
    "        SELECT gender, count(DISTINCT userID) as count_users\n",
    "        FROM Sparkify_table\n",
    "        GROUP BY gender\n",
    "        ORDER BY count_users DESC\n",
    "        ''').show()"
   ]
  },
  {
   "cell_type": "code",
   "execution_count": 19,
   "metadata": {},
   "outputs": [
    {
     "data": {
      "image/png": "[encoded data removed]",
      "text/plain": [
       "<matplotlib.figure.Figure at 0x7ff0db86bcf8>"
      ]
     },
     "metadata": {
      "needs_background": "light"
     },
     "output_type": "display_data"
    }
   ],
   "source": [
    "# Plot the distribution of session counts\n",
    "sessions_perId = spark.sql('''\n",
    "        SELECT userId, count(sessionId) as count_sessions\n",
    "        FROM Sparkify_table\n",
    "        GROUP BY userId\n",
    "        ORDER BY count_sessions DESC\n",
    "        ''')\n",
    "plt.hist(x = 'count_sessions',data = sessions_perId.toPandas());\n",
    "plt.title(\"Distribution of session counts per user\");"
   ]
  },
  {
   "cell_type": "code",
   "execution_count": 20,
   "metadata": {},
   "outputs": [
    {
     "data": {
      "image/png": "[encoded data removed]",
      "text/plain": [
       "<matplotlib.figure.Figure at 0x7ff0daff9438>"
      ]
     },
     "metadata": {
      "needs_background": "light"
     },
     "output_type": "display_data"
    }
   ],
   "source": [
    "# The total use length per user\n",
    "total_length = spark.sql('''\n",
    "        SELECT userId, sum(length) as total_length\n",
    "        FROM Sparkify_table\n",
    "        GROUP BY userId\n",
    "        ORDER BY total_length DESC\n",
    "        ''').toPandas()\n",
    "plt.hist(x = 'total_length', data = total_length);\n",
    "plt.title(\"Distribution of total length per user\");"
   ]
  },
  {
   "cell_type": "code",
   "execution_count": 21,
   "metadata": {},
   "outputs": [
    {
     "data": {
      "image/png": "[encoded data removed]",
      "text/plain": [
       "<matplotlib.figure.Figure at 0x7ff0d8f43fd0>"
      ]
     },
     "metadata": {
      "needs_background": "light"
     },
     "output_type": "display_data"
    }
   ],
   "source": [
    "# and avarage use length per session per user\n",
    "average_length = spark.sql('''\n",
    "        SELECT userId, mean(length) as mean_length\n",
    "        FROM Sparkify_table\n",
    "        GROUP BY userId\n",
    "        ORDER BY mean_length DESC\n",
    "        ''').toPandas()\n",
    "plt.hist(x = 'mean_length', data = average_length);\n",
    "plt.title(\"Distribution of average length per user\");"
   ]
  },
  {
   "cell_type": "code",
   "execution_count": 22,
   "metadata": {},
   "outputs": [],
   "source": [
    "# Locations\n",
    "locations = spark.sql('''\n",
    "        SELECT location, count(userId) as count_user\n",
    "        FROM Sparkify_table\n",
    "        GROUP BY location\n",
    "        ORDER BY count_user DESC\n",
    "        ''').toPandas()"
   ]
  },
  {
   "cell_type": "code",
   "execution_count": 23,
   "metadata": {},
   "outputs": [
    {
     "data": {
      "text/html": [
       "<div>\n",
       "<style scoped>\n",
       "    .dataframe tbody tr th:only-of-type {\n",
       "        vertical-align: middle;\n",
       "    }\n",
       "\n",
       "    .dataframe tbody tr th {\n",
       "        vertical-align: top;\n",
       "    }\n",
       "\n",
       "    .dataframe thead th {\n",
       "        text-align: right;\n",
       "    }\n",
       "</style>\n",
       "<table border=\"1\" class=\"dataframe\">\n",
       "  <thead>\n",
       "    <tr style=\"text-align: right;\">\n",
       "      <th></th>\n",
       "      <th>location</th>\n",
       "      <th>count_user</th>\n",
       "    </tr>\n",
       "  </thead>\n",
       "  <tbody>\n",
       "    <tr>\n",
       "      <th>0</th>\n",
       "      <td>Los Angeles-Long Beach-Anaheim, CA</td>\n",
       "      <td>24861</td>\n",
       "    </tr>\n",
       "    <tr>\n",
       "      <th>1</th>\n",
       "      <td>New York-Newark-Jersey City, NY-NJ-PA</td>\n",
       "      <td>19268</td>\n",
       "    </tr>\n",
       "    <tr>\n",
       "      <th>2</th>\n",
       "      <td>Boston-Cambridge-Newton, MA-NH</td>\n",
       "      <td>11415</td>\n",
       "    </tr>\n",
       "    <tr>\n",
       "      <th>3</th>\n",
       "      <td>Houston-The Woodlands-Sugar Land, TX</td>\n",
       "      <td>7832</td>\n",
       "    </tr>\n",
       "    <tr>\n",
       "      <th>4</th>\n",
       "      <td>Charlotte-Concord-Gastonia, NC-SC</td>\n",
       "      <td>6433</td>\n",
       "    </tr>\n",
       "  </tbody>\n",
       "</table>\n",
       "</div>"
      ],
      "text/plain": [
       "                                location  count_user\n",
       "0     Los Angeles-Long Beach-Anaheim, CA       24861\n",
       "1  New York-Newark-Jersey City, NY-NJ-PA       19268\n",
       "2         Boston-Cambridge-Newton, MA-NH       11415\n",
       "3   Houston-The Woodlands-Sugar Land, TX        7832\n",
       "4      Charlotte-Concord-Gastonia, NC-SC        6433"
      ]
     },
     "execution_count": 23,
     "metadata": {},
     "output_type": "execute_result"
    }
   ],
   "source": [
    "locations.head()"
   ]
  },
  {
   "cell_type": "code",
   "execution_count": 24,
   "metadata": {},
   "outputs": [
    {
     "data": {
      "text/html": [
       "<div>\n",
       "<style scoped>\n",
       "    .dataframe tbody tr th:only-of-type {\n",
       "        vertical-align: middle;\n",
       "    }\n",
       "\n",
       "    .dataframe tbody tr th {\n",
       "        vertical-align: top;\n",
       "    }\n",
       "\n",
       "    .dataframe thead th {\n",
       "        text-align: right;\n",
       "    }\n",
       "</style>\n",
       "<table border=\"1\" class=\"dataframe\">\n",
       "  <thead>\n",
       "    <tr style=\"text-align: right;\">\n",
       "      <th></th>\n",
       "      <th>count_user</th>\n",
       "      <th>city</th>\n",
       "      <th>state</th>\n",
       "    </tr>\n",
       "  </thead>\n",
       "  <tbody>\n",
       "    <tr>\n",
       "      <th>0</th>\n",
       "      <td>24861</td>\n",
       "      <td>Los Angeles-Long Beach-Anaheim</td>\n",
       "      <td>CA</td>\n",
       "    </tr>\n",
       "    <tr>\n",
       "      <th>1</th>\n",
       "      <td>19268</td>\n",
       "      <td>New York-Newark-Jersey City</td>\n",
       "      <td>NY-NJ-PA</td>\n",
       "    </tr>\n",
       "    <tr>\n",
       "      <th>2</th>\n",
       "      <td>11415</td>\n",
       "      <td>Boston-Cambridge-Newton</td>\n",
       "      <td>MA-NH</td>\n",
       "    </tr>\n",
       "    <tr>\n",
       "      <th>3</th>\n",
       "      <td>7832</td>\n",
       "      <td>Houston-The Woodlands-Sugar Land</td>\n",
       "      <td>TX</td>\n",
       "    </tr>\n",
       "    <tr>\n",
       "      <th>4</th>\n",
       "      <td>6433</td>\n",
       "      <td>Charlotte-Concord-Gastonia</td>\n",
       "      <td>NC-SC</td>\n",
       "    </tr>\n",
       "  </tbody>\n",
       "</table>\n",
       "</div>"
      ],
      "text/plain": [
       "   count_user                              city      state\n",
       "0       24861    Los Angeles-Long Beach-Anaheim         CA\n",
       "1       19268       New York-Newark-Jersey City   NY-NJ-PA\n",
       "2       11415           Boston-Cambridge-Newton      MA-NH\n",
       "3        7832  Houston-The Woodlands-Sugar Land         TX\n",
       "4        6433        Charlotte-Concord-Gastonia      NC-SC"
      ]
     },
     "execution_count": 24,
     "metadata": {},
     "output_type": "execute_result"
    }
   ],
   "source": [
    "# Divide location data to cities and states\n",
    "locations = locations.join(locations['location'].str.split(',', expand = True).rename(columns = {0: 'city', 1: 'state'})).drop('location', axis = 1)\n",
    "locations.head()"
   ]
  },
  {
   "cell_type": "code",
   "execution_count": 25,
   "metadata": {
    "scrolled": true
   },
   "outputs": [
    {
     "data": {
      "image/png": "[encoded data removed]",
      "text/plain": [
       "<matplotlib.figure.Figure at 0x7ff0d8ded710>"
      ]
     },
     "metadata": {
      "needs_background": "light"
     },
     "output_type": "display_data"
    }
   ],
   "source": [
    "location_state = locations.groupby('state')['count_user'].sum().sort_values(ascending=False)\n",
    "location_state.plot(kind='bar', figsize=(15,8));"
   ]
  },
  {
   "cell_type": "code",
   "execution_count": 26,
   "metadata": {},
   "outputs": [
    {
     "data": {
      "image/png": "[encoded data removed]",
      "text/plain": [
       "<matplotlib.figure.Figure at 0x7ff0d8c60be0>"
      ]
     },
     "metadata": {
      "needs_background": "light"
     },
     "output_type": "display_data"
    }
   ],
   "source": [
    "# total number of songs played per user\n",
    "n_songs = spark.sql('''\n",
    "        SELECT userId, count(song) as count_songs\n",
    "        FROM Sparkify_table\n",
    "        GROUP BY userId\n",
    "        ORDER BY count_songs DESC\n",
    "        ''').toPandas()\n",
    "plt.hist(x = 'count_songs', data = n_songs);\n",
    "plt.title(\"Distribution of total number of songs played per user\");"
   ]
  },
  {
   "cell_type": "code",
   "execution_count": 27,
   "metadata": {},
   "outputs": [],
   "source": [
    "# number of songs played per user per session\n",
    "n_songs_session = spark.sql('''\n",
    "        SELECT userId, sessionId, count(song) as count_songs\n",
    "        FROM Sparkify_table\n",
    "        GROUP BY userId, sessionId\n",
    "        ORDER BY count_songs DESC\n",
    "        ''').toPandas()\n"
   ]
  },
  {
   "cell_type": "code",
   "execution_count": 28,
   "metadata": {},
   "outputs": [
    {
     "data": {
      "text/html": [
       "<div>\n",
       "<style scoped>\n",
       "    .dataframe tbody tr th:only-of-type {\n",
       "        vertical-align: middle;\n",
       "    }\n",
       "\n",
       "    .dataframe tbody tr th {\n",
       "        vertical-align: top;\n",
       "    }\n",
       "\n",
       "    .dataframe thead th {\n",
       "        text-align: right;\n",
       "    }\n",
       "</style>\n",
       "<table border=\"1\" class=\"dataframe\">\n",
       "  <thead>\n",
       "    <tr style=\"text-align: right;\">\n",
       "      <th></th>\n",
       "      <th>userId</th>\n",
       "      <th>sessionId</th>\n",
       "      <th>count_songs</th>\n",
       "    </tr>\n",
       "  </thead>\n",
       "  <tbody>\n",
       "    <tr>\n",
       "      <th>0</th>\n",
       "      <td>91</td>\n",
       "      <td>1840</td>\n",
       "      <td>1093</td>\n",
       "    </tr>\n",
       "    <tr>\n",
       "      <th>1</th>\n",
       "      <td>115</td>\n",
       "      <td>316</td>\n",
       "      <td>900</td>\n",
       "    </tr>\n",
       "    <tr>\n",
       "      <th>2</th>\n",
       "      <td>101</td>\n",
       "      <td>635</td>\n",
       "      <td>708</td>\n",
       "    </tr>\n",
       "    <tr>\n",
       "      <th>3</th>\n",
       "      <td>120</td>\n",
       "      <td>731</td>\n",
       "      <td>648</td>\n",
       "    </tr>\n",
       "    <tr>\n",
       "      <th>4</th>\n",
       "      <td>25</td>\n",
       "      <td>827</td>\n",
       "      <td>593</td>\n",
       "    </tr>\n",
       "  </tbody>\n",
       "</table>\n",
       "</div>"
      ],
      "text/plain": [
       "  userId  sessionId  count_songs\n",
       "0     91       1840         1093\n",
       "1    115        316          900\n",
       "2    101        635          708\n",
       "3    120        731          648\n",
       "4     25        827          593"
      ]
     },
     "execution_count": 28,
     "metadata": {},
     "output_type": "execute_result"
    }
   ],
   "source": [
    "n_songs_session.head()"
   ]
  },
  {
   "cell_type": "code",
   "execution_count": 29,
   "metadata": {},
   "outputs": [
    {
     "data": {
      "image/png": "[encoded data removed]",
      "text/plain": [
       "<matplotlib.figure.Figure at 0x7ff0d8b29da0>"
      ]
     },
     "metadata": {
      "needs_background": "light"
     },
     "output_type": "display_data"
    }
   ],
   "source": [
    "# average songs played per session each user\n",
    "n_songs_session.groupby('userId')['count_songs'].mean().plot(kind='hist', figsize=(15,8));"
   ]
  },
  {
   "cell_type": "code",
   "execution_count": 30,
   "metadata": {},
   "outputs": [
    {
     "data": {
      "text/html": [
       "<div>\n",
       "<style scoped>\n",
       "    .dataframe tbody tr th:only-of-type {\n",
       "        vertical-align: middle;\n",
       "    }\n",
       "\n",
       "    .dataframe tbody tr th {\n",
       "        vertical-align: top;\n",
       "    }\n",
       "\n",
       "    .dataframe thead th {\n",
       "        text-align: right;\n",
       "    }\n",
       "</style>\n",
       "<table border=\"1\" class=\"dataframe\">\n",
       "  <thead>\n",
       "    <tr style=\"text-align: right;\">\n",
       "      <th></th>\n",
       "      <th>datetime</th>\n",
       "      <th>userId</th>\n",
       "    </tr>\n",
       "  </thead>\n",
       "  <tbody>\n",
       "    <tr>\n",
       "      <th>0</th>\n",
       "      <td>2018-10-01 00:01:57</td>\n",
       "      <td>30</td>\n",
       "    </tr>\n",
       "    <tr>\n",
       "      <th>1</th>\n",
       "      <td>2018-10-01 00:03:00</td>\n",
       "      <td>9</td>\n",
       "    </tr>\n",
       "    <tr>\n",
       "      <th>2</th>\n",
       "      <td>2018-10-01 00:06:34</td>\n",
       "      <td>30</td>\n",
       "    </tr>\n",
       "    <tr>\n",
       "      <th>3</th>\n",
       "      <td>2018-10-01 00:06:56</td>\n",
       "      <td>9</td>\n",
       "    </tr>\n",
       "    <tr>\n",
       "      <th>4</th>\n",
       "      <td>2018-10-01 00:11:16</td>\n",
       "      <td>30</td>\n",
       "    </tr>\n",
       "  </tbody>\n",
       "</table>\n",
       "</div>"
      ],
      "text/plain": [
       "              datetime userId\n",
       "0  2018-10-01 00:01:57     30\n",
       "1  2018-10-01 00:03:00      9\n",
       "2  2018-10-01 00:06:34     30\n",
       "3  2018-10-01 00:06:56      9\n",
       "4  2018-10-01 00:11:16     30"
      ]
     },
     "execution_count": 30,
     "metadata": {},
     "output_type": "execute_result"
    }
   ],
   "source": [
    "# Explore time and date patterns\n",
    "time_data = spark.sql('''\n",
    "                    SELECT datetime, userId\n",
    "                    FROM Sparkify_table\n",
    "                        ''').toPandas()\n",
    "time_data.head()\n"
   ]
  },
  {
   "cell_type": "code",
   "execution_count": 31,
   "metadata": {},
   "outputs": [],
   "source": [
    "time_data['datetime'] = pd.to_datetime(time_data['datetime'], format='%Y-%m-%d %H:%M:%S')"
   ]
  },
  {
   "cell_type": "code",
   "execution_count": 32,
   "metadata": {},
   "outputs": [
    {
     "data": {
      "text/html": [
       "<div>\n",
       "<style scoped>\n",
       "    .dataframe tbody tr th:only-of-type {\n",
       "        vertical-align: middle;\n",
       "    }\n",
       "\n",
       "    .dataframe tbody tr th {\n",
       "        vertical-align: top;\n",
       "    }\n",
       "\n",
       "    .dataframe thead th {\n",
       "        text-align: right;\n",
       "    }\n",
       "</style>\n",
       "<table border=\"1\" class=\"dataframe\">\n",
       "  <thead>\n",
       "    <tr style=\"text-align: right;\">\n",
       "      <th></th>\n",
       "      <th>datetime</th>\n",
       "      <th>userId</th>\n",
       "      <th>month</th>\n",
       "      <th>weekday</th>\n",
       "      <th>day</th>\n",
       "      <th>hour</th>\n",
       "    </tr>\n",
       "  </thead>\n",
       "  <tbody>\n",
       "    <tr>\n",
       "      <th>0</th>\n",
       "      <td>2018-10-01 00:01:57</td>\n",
       "      <td>30</td>\n",
       "      <td>October</td>\n",
       "      <td>Monday</td>\n",
       "      <td>1</td>\n",
       "      <td>0</td>\n",
       "    </tr>\n",
       "    <tr>\n",
       "      <th>1</th>\n",
       "      <td>2018-10-01 00:03:00</td>\n",
       "      <td>9</td>\n",
       "      <td>October</td>\n",
       "      <td>Monday</td>\n",
       "      <td>1</td>\n",
       "      <td>0</td>\n",
       "    </tr>\n",
       "    <tr>\n",
       "      <th>2</th>\n",
       "      <td>2018-10-01 00:06:34</td>\n",
       "      <td>30</td>\n",
       "      <td>October</td>\n",
       "      <td>Monday</td>\n",
       "      <td>1</td>\n",
       "      <td>0</td>\n",
       "    </tr>\n",
       "    <tr>\n",
       "      <th>3</th>\n",
       "      <td>2018-10-01 00:06:56</td>\n",
       "      <td>9</td>\n",
       "      <td>October</td>\n",
       "      <td>Monday</td>\n",
       "      <td>1</td>\n",
       "      <td>0</td>\n",
       "    </tr>\n",
       "    <tr>\n",
       "      <th>4</th>\n",
       "      <td>2018-10-01 00:11:16</td>\n",
       "      <td>30</td>\n",
       "      <td>October</td>\n",
       "      <td>Monday</td>\n",
       "      <td>1</td>\n",
       "      <td>0</td>\n",
       "    </tr>\n",
       "  </tbody>\n",
       "</table>\n",
       "</div>"
      ],
      "text/plain": [
       "             datetime userId    month weekday  day  hour\n",
       "0 2018-10-01 00:01:57     30  October  Monday    1     0\n",
       "1 2018-10-01 00:03:00      9  October  Monday    1     0\n",
       "2 2018-10-01 00:06:34     30  October  Monday    1     0\n",
       "3 2018-10-01 00:06:56      9  October  Monday    1     0\n",
       "4 2018-10-01 00:11:16     30  October  Monday    1     0"
      ]
     },
     "execution_count": 32,
     "metadata": {},
     "output_type": "execute_result"
    }
   ],
   "source": [
    "# datetime to sub-variables\n",
    "month_recode = {1:'January', 2:'February', 3:'March', 4:'April', 5:'May', 6:'June', 7:'July', 8:'August', 9: 'September', 10: 'October', 11: 'November', 12: 'December'}\n",
    "time_data['month'] = time_data['datetime'].dt.month.map(month_recode)\n",
    "weekday_recode = {0:'Monday', 1:'Tuesday', 2:'Wednesday', 3:'Thursday', 4:'Friday', 5:'Saturday', 6:'Sunday'}\n",
    "time_data['weekday'] = time_data['datetime'].dt.weekday.map(weekday_recode)\n",
    "time_data['day'] = time_data['datetime'].dt.day\n",
    "time_data['hour'] = time_data['datetime'].dt.hour\n",
    "time_data.head()"
   ]
  },
  {
   "cell_type": "code",
   "execution_count": 33,
   "metadata": {},
   "outputs": [
    {
     "data": {
      "image/png": "[encoded data removed]",
      "text/plain": [
       "<matplotlib.figure.Figure at 0x7ff0d11684a8>"
      ]
     },
     "metadata": {
      "needs_background": "light"
     },
     "output_type": "display_data"
    }
   ],
   "source": [
    "sns.countplot(x = 'month', data = time_data);"
   ]
  },
  {
   "cell_type": "code",
   "execution_count": 34,
   "metadata": {},
   "outputs": [
    {
     "data": {
      "image/png": "[encoded data removed]",
      "text/plain": [
       "<matplotlib.figure.Figure at 0x7ff0d8ded390>"
      ]
     },
     "metadata": {
      "needs_background": "light"
     },
     "output_type": "display_data"
    }
   ],
   "source": [
    "sns.countplot(x = 'weekday', data = time_data);"
   ]
  },
  {
   "cell_type": "code",
   "execution_count": 35,
   "metadata": {},
   "outputs": [
    {
     "data": {
      "image/png": "[encoded data removed]",
      "text/plain": [
       "<matplotlib.figure.Figure at 0x7ff0d8a3dfd0>"
      ]
     },
     "metadata": {
      "needs_background": "light"
     },
     "output_type": "display_data"
    }
   ],
   "source": [
    "sns.countplot(x = 'day', data = time_data);"
   ]
  },
  {
   "cell_type": "code",
   "execution_count": 36,
   "metadata": {},
   "outputs": [],
   "source": [
    "# UserAgent\n",
    "userAgent = spark.sql('''\n",
    "    SELECT userAgent,count(DISTINCT userId) as n_users\n",
    "    FROM Sparkify_table\n",
    "    GROUP BY userAgent\n",
    "    ''').toPandas()"
   ]
  },
  {
   "cell_type": "code",
   "execution_count": 37,
   "metadata": {},
   "outputs": [
    {
     "data": {
      "text/html": [
       "<div>\n",
       "<style scoped>\n",
       "    .dataframe tbody tr th:only-of-type {\n",
       "        vertical-align: middle;\n",
       "    }\n",
       "\n",
       "    .dataframe tbody tr th {\n",
       "        vertical-align: top;\n",
       "    }\n",
       "\n",
       "    .dataframe thead th {\n",
       "        text-align: right;\n",
       "    }\n",
       "</style>\n",
       "<table border=\"1\" class=\"dataframe\">\n",
       "  <thead>\n",
       "    <tr style=\"text-align: right;\">\n",
       "      <th></th>\n",
       "      <th>userAgent</th>\n",
       "      <th>n_users</th>\n",
       "    </tr>\n",
       "  </thead>\n",
       "  <tbody>\n",
       "    <tr>\n",
       "      <th>0</th>\n",
       "      <td>\"Mozilla/5.0 (Macintosh; Intel Mac OS X 10_8_5...</td>\n",
       "      <td>1</td>\n",
       "    </tr>\n",
       "    <tr>\n",
       "      <th>1</th>\n",
       "      <td>\"Mozilla/5.0 (Windows NT 5.1) AppleWebKit/537....</td>\n",
       "      <td>4</td>\n",
       "    </tr>\n",
       "    <tr>\n",
       "      <th>2</th>\n",
       "      <td>Mozilla/5.0 (X11; Ubuntu; Linux i686; rv:31.0)...</td>\n",
       "      <td>1</td>\n",
       "    </tr>\n",
       "    <tr>\n",
       "      <th>3</th>\n",
       "      <td>\"Mozilla/5.0 (Macintosh; Intel Mac OS X 10_9_4...</td>\n",
       "      <td>16</td>\n",
       "    </tr>\n",
       "    <tr>\n",
       "      <th>4</th>\n",
       "      <td>\"Mozilla/5.0 (Macintosh; Intel Mac OS X 10_9_4...</td>\n",
       "      <td>2</td>\n",
       "    </tr>\n",
       "  </tbody>\n",
       "</table>\n",
       "</div>"
      ],
      "text/plain": [
       "                                           userAgent  n_users\n",
       "0  \"Mozilla/5.0 (Macintosh; Intel Mac OS X 10_8_5...        1\n",
       "1  \"Mozilla/5.0 (Windows NT 5.1) AppleWebKit/537....        4\n",
       "2  Mozilla/5.0 (X11; Ubuntu; Linux i686; rv:31.0)...        1\n",
       "3  \"Mozilla/5.0 (Macintosh; Intel Mac OS X 10_9_4...       16\n",
       "4  \"Mozilla/5.0 (Macintosh; Intel Mac OS X 10_9_4...        2"
      ]
     },
     "execution_count": 37,
     "metadata": {},
     "output_type": "execute_result"
    }
   ],
   "source": [
    "userAgent.head()"
   ]
  },
  {
   "cell_type": "code",
   "execution_count": 38,
   "metadata": {},
   "outputs": [
    {
     "data": {
      "text/html": [
       "<div>\n",
       "<style scoped>\n",
       "    .dataframe tbody tr th:only-of-type {\n",
       "        vertical-align: middle;\n",
       "    }\n",
       "\n",
       "    .dataframe tbody tr th {\n",
       "        vertical-align: top;\n",
       "    }\n",
       "\n",
       "    .dataframe thead th {\n",
       "        text-align: right;\n",
       "    }\n",
       "</style>\n",
       "<table border=\"1\" class=\"dataframe\">\n",
       "  <thead>\n",
       "    <tr style=\"text-align: right;\">\n",
       "      <th></th>\n",
       "      <th>userAgent</th>\n",
       "      <th>n_users</th>\n",
       "    </tr>\n",
       "  </thead>\n",
       "  <tbody>\n",
       "    <tr>\n",
       "      <th>0</th>\n",
       "      <td>\"Mozilla/5.0 (Macintosh; Intel Mac OS X 10_8_5) AppleWebKit/537.36 (KHTML, like Gecko) Chrome/36.0.1985.143 Safari/537.36\"</td>\n",
       "      <td>1</td>\n",
       "    </tr>\n",
       "    <tr>\n",
       "      <th>1</th>\n",
       "      <td>\"Mozilla/5.0 (Windows NT 5.1) AppleWebKit/537.36 (KHTML, like Gecko) Chrome/36.0.1985.143 Safari/537.36\"</td>\n",
       "      <td>4</td>\n",
       "    </tr>\n",
       "    <tr>\n",
       "      <th>2</th>\n",
       "      <td>Mozilla/5.0 (X11; Ubuntu; Linux i686; rv:31.0) Gecko/20100101 Firefox/31.0</td>\n",
       "      <td>1</td>\n",
       "    </tr>\n",
       "    <tr>\n",
       "      <th>3</th>\n",
       "      <td>\"Mozilla/5.0 (Macintosh; Intel Mac OS X 10_9_4) AppleWebKit/537.36 (KHTML, like Gecko) Chrome/36.0.1985.125 Safari/537.36\"</td>\n",
       "      <td>16</td>\n",
       "    </tr>\n",
       "    <tr>\n",
       "      <th>4</th>\n",
       "      <td>\"Mozilla/5.0 (Macintosh; Intel Mac OS X 10_9_4) AppleWebKit/537.36 (KHTML, like Gecko) Chrome/35.0.1916.153 Safari/537.36\"</td>\n",
       "      <td>2</td>\n",
       "    </tr>\n",
       "  </tbody>\n",
       "</table>\n",
       "</div>"
      ],
      "text/plain": [
       "                                                                                                                    userAgent  \\\n",
       "0  \"Mozilla/5.0 (Macintosh; Intel Mac OS X 10_8_5) AppleWebKit/537.36 (KHTML, like Gecko) Chrome/36.0.1985.143 Safari/537.36\"   \n",
       "1  \"Mozilla/5.0 (Windows NT 5.1) AppleWebKit/537.36 (KHTML, like Gecko) Chrome/36.0.1985.143 Safari/537.36\"                     \n",
       "2  Mozilla/5.0 (X11; Ubuntu; Linux i686; rv:31.0) Gecko/20100101 Firefox/31.0                                                   \n",
       "3  \"Mozilla/5.0 (Macintosh; Intel Mac OS X 10_9_4) AppleWebKit/537.36 (KHTML, like Gecko) Chrome/36.0.1985.125 Safari/537.36\"   \n",
       "4  \"Mozilla/5.0 (Macintosh; Intel Mac OS X 10_9_4) AppleWebKit/537.36 (KHTML, like Gecko) Chrome/35.0.1916.153 Safari/537.36\"   \n",
       "\n",
       "   n_users  \n",
       "0  1        \n",
       "1  4        \n",
       "2  1        \n",
       "3  16       \n",
       "4  2        "
      ]
     },
     "execution_count": 38,
     "metadata": {},
     "output_type": "execute_result"
    }
   ],
   "source": [
    "pd.set_option('display.max_colwidth', -1)\n",
    "userAgent.head()"
   ]
  },
  {
   "cell_type": "code",
   "execution_count": 39,
   "metadata": {},
   "outputs": [
    {
     "data": {
      "text/plain": [
       "'Macintosh'"
      ]
     },
     "execution_count": 39,
     "metadata": {},
     "output_type": "execute_result"
    }
   ],
   "source": [
    "import re\n",
    "text = userAgent.iloc[0,0]\n",
    "text\n",
    "re.search('\\(([^)]+)', text).group(1).split(';')[0]"
   ]
  },
  {
   "cell_type": "code",
   "execution_count": 40,
   "metadata": {},
   "outputs": [],
   "source": [
    "def get_platform(text):\n",
    "    platform = re.search('\\(([^)]+)', text).group(1).split(';')[0]\n",
    "    if 'Windows NT' in platform:\n",
    "        platform = 'Windows'\n",
    "    return platform\n",
    "\n"
   ]
  },
  {
   "cell_type": "code",
   "execution_count": 41,
   "metadata": {},
   "outputs": [],
   "source": [
    "userAgent['platform'] = userAgent['userAgent'].apply(get_platform)"
   ]
  },
  {
   "cell_type": "code",
   "execution_count": 42,
   "metadata": {},
   "outputs": [
    {
     "data": {
      "text/plain": [
       "<matplotlib.axes._subplots.AxesSubplot at 0x7ff0db002a58>"
      ]
     },
     "execution_count": 42,
     "metadata": {},
     "output_type": "execute_result"
    },
    {
     "data": {
      "image/png": "[encoded data removed]",
      "text/plain": [
       "<matplotlib.figure.Figure at 0x7ff0d8f80668>"
      ]
     },
     "metadata": {
      "needs_background": "light"
     },
     "output_type": "display_data"
    }
   ],
   "source": [
    "userAgent.groupby('platform').sum()['n_users'].sort_values(ascending = False).plot(kind = 'bar')"
   ]
  },
  {
   "cell_type": "code",
   "execution_count": 43,
   "metadata": {},
   "outputs": [],
   "source": [
    "#Define churn\n",
    "flag_churn = udf(lambda x: 1 if x == \"Cancellation Confirmation\" else 0, IntegerType())\n",
    "df_clean_churn = df_clean.withColumn(\"flag_churn\", flag_churn(\"page\"))\n",
    "df_clean_churn = df_clean_churn.withColumn('churn', fmax('flag_churn').over(Window.partitionBy('UserId')))"
   ]
  },
  {
   "cell_type": "code",
   "execution_count": 44,
   "metadata": {},
   "outputs": [
    {
     "name": "stdout",
     "output_type": "stream",
     "text": [
      "+--------------------+---------+---------+------+-------------+---------+---------+-----+--------------------+------+--------+-------------+---------+--------------------+------+-------------+--------------------+------+-------------------+----------+-----+\n",
      "|              artist|     auth|firstName|gender|itemInSession| lastName|   length|level|            location|method|    page| registration|sessionId|                song|status|           ts|           userAgent|userId|           datetime|flag_churn|churn|\n",
      "+--------------------+---------+---------+------+-------------+---------+---------+-----+--------------------+------+--------+-------------+---------+--------------------+------+-------------+--------------------+------+-------------------+----------+-----+\n",
      "|Sleeping With Sirens|Logged In| Darianna|     F|            0|Carpenter|202.97098| free|Bridgeport-Stamfo...|   PUT|NextSong|1538016340000|       31|Captain Tyin Knot...|   200|1539003534000|\"Mozilla/5.0 (iPh...|100010|2018-10-08 12:58:54|         0|    0|\n",
      "+--------------------+---------+---------+------+-------------+---------+---------+-----+--------------------+------+--------+-------------+---------+--------------------+------+-------------+--------------------+------+-------------------+----------+-----+\n",
      "only showing top 1 row\n",
      "\n"
     ]
    }
   ],
   "source": [
    "df_clean_churn.show(1)"
   ]
  },
  {
   "cell_type": "code",
   "execution_count": 45,
   "metadata": {},
   "outputs": [
    {
     "data": {
      "text/plain": [
       "Column<b'location'>"
      ]
     },
     "execution_count": 45,
     "metadata": {},
     "output_type": "execute_result"
    }
   ],
   "source": [
    "df_clean_churn['location']"
   ]
  },
  {
   "cell_type": "code",
   "execution_count": 46,
   "metadata": {},
   "outputs": [
    {
     "data": {
      "text/plain": [
       "[Row(artist='Sleeping With Sirens', auth='Logged In', firstName='Darianna', gender='F', itemInSession=0, lastName='Carpenter', length=202.97098, level='free', location='Bridgeport-Stamford-Norwalk, CT', method='PUT', page='NextSong', registration=1538016340000, sessionId=31, song='Captain Tyin Knots VS Mr Walkway (No Way)', status=200, ts=1539003534000, userAgent='\"Mozilla/5.0 (iPhone; CPU iPhone OS 7_1_2 like Mac OS X) AppleWebKit/537.51.2 (KHTML, like Gecko) Version/7.0 Mobile/11D257 Safari/9537.53\"', userId='100010', datetime='2018-10-08 12:58:54', flag_churn=0, churn=0, location_state='CT')]"
      ]
     },
     "execution_count": 46,
     "metadata": {},
     "output_type": "execute_result"
    }
   ],
   "source": [
    "# Explore catagorical features: gender, State from Location, user platform from userAgent\n",
    "# define functions to get Location States and user platform\n",
    "get_state = udf(lambda x: x.split(', ')[1])\n",
    "df_clean_churn = df_clean_churn.withColumn('location_state', get_state(\"location\"))\n",
    "df_clean_churn.take(1)"
   ]
  },
  {
   "cell_type": "code",
   "execution_count": 47,
   "metadata": {},
   "outputs": [
    {
     "data": {
      "text/plain": [
       "[Row(artist='Sleeping With Sirens', auth='Logged In', firstName='Darianna', gender='F', itemInSession=0, lastName='Carpenter', length=202.97098, level='free', location='Bridgeport-Stamford-Norwalk, CT', method='PUT', page='NextSong', registration=1538016340000, sessionId=31, song='Captain Tyin Knots VS Mr Walkway (No Way)', status=200, ts=1539003534000, userAgent='\"Mozilla/5.0 (iPhone; CPU iPhone OS 7_1_2 like Mac OS X) AppleWebKit/537.51.2 (KHTML, like Gecko) Version/7.0 Mobile/11D257 Safari/9537.53\"', userId='100010', datetime='2018-10-08 12:58:54', flag_churn=0, churn=0, location_state='CT', platform='iPhone'),\n",
       " Row(artist='Francesca Battistelli', auth='Logged In', firstName='Darianna', gender='F', itemInSession=1, lastName='Carpenter', length=196.54485, level='free', location='Bridgeport-Stamford-Norwalk, CT', method='PUT', page='NextSong', registration=1538016340000, sessionId=31, song='Beautiful_ Beautiful (Album)', status=200, ts=1539003736000, userAgent='\"Mozilla/5.0 (iPhone; CPU iPhone OS 7_1_2 like Mac OS X) AppleWebKit/537.51.2 (KHTML, like Gecko) Version/7.0 Mobile/11D257 Safari/9537.53\"', userId='100010', datetime='2018-10-08 13:02:16', flag_churn=0, churn=0, location_state='CT', platform='iPhone')]"
      ]
     },
     "execution_count": 47,
     "metadata": {},
     "output_type": "execute_result"
    }
   ],
   "source": [
    "get_platform_udf = udf(lambda x: get_platform(x))\n",
    "df_clean_churn = df_clean_churn.withColumn('platform', get_platform_udf(\"userAgent\"))\n",
    "df_clean_churn.take(2)"
   ]
  },
  {
   "cell_type": "code",
   "execution_count": 48,
   "metadata": {},
   "outputs": [],
   "source": [
    "# summarize catagorical variables and check if there exist differences between users churned or not\n",
    "\n",
    "def summarize_churn_catagorical(variable):\n",
    "    '''\n",
    "    INPUT: variable --> the variable column name for which we want to summarize\n",
    "    \n",
    "    DESCRIPTION: This function gives a table showing the subgroup count in users churned or not for the variable,\n",
    "    and calculate the p-value based on chi-square contingency test.\n",
    "    \n",
    "    '''\n",
    "    \n",
    "    summary = df_clean_churn.dropDuplicates([\"userId\", variable]).groupby([\"churn\", variable]).count().sort(\"churn\")\n",
    "    summary.show()\n",
    "    subdata = df_clean_churn.dropDuplicates([\"userId\", variable])[variable,'churn'].toPandas()\n",
    "\n",
    "    table = pd.crosstab(index = subdata['churn'], columns = subdata[variable])\n",
    "    g, p, dof, expctd = chi2_contingency(table)\n",
    "    print('p-value=',p)\n"
   ]
  },
  {
   "cell_type": "code",
   "execution_count": 49,
   "metadata": {},
   "outputs": [
    {
     "name": "stdout",
     "output_type": "stream",
     "text": [
      "+-----+------+-----+\n",
      "|churn|gender|count|\n",
      "+-----+------+-----+\n",
      "|    0|     M|  121|\n",
      "|    0|     F|  104|\n",
      "+-----+------+-----+\n",
      "\n",
      "p-value= 1.0\n"
     ]
    }
   ],
   "source": [
    "summarize_churn_catagorical('gender')"
   ]
  },
  {
   "cell_type": "code",
   "execution_count": 50,
   "metadata": {},
   "outputs": [
    {
     "name": "stdout",
     "output_type": "stream",
     "text": [
      "+-----+--------------+-----+\n",
      "|churn|location_state|count|\n",
      "+-----+--------------+-----+\n",
      "|    0|            FL|   14|\n",
      "|    0|         MN-WI|    3|\n",
      "|    0|            OK|    1|\n",
      "|    0|            TN|    1|\n",
      "|    0|            WV|    1|\n",
      "|    0|         NC-SC|    6|\n",
      "|    0|            MI|    5|\n",
      "|    0|            MT|    2|\n",
      "|    0|      OH-KY-IN|    2|\n",
      "|    0|            MS|    3|\n",
      "|    0|            SC|    2|\n",
      "|    0|            IA|    1|\n",
      "|    0|            IN|    3|\n",
      "|    0|            MD|    2|\n",
      "|    0|      NY-NJ-PA|   15|\n",
      "|    0|         MO-KS|    2|\n",
      "|    0|            NH|    2|\n",
      "|    0|            NC|    6|\n",
      "|    0|            TX|   16|\n",
      "|    0|            WA|    4|\n",
      "+-----+--------------+-----+\n",
      "only showing top 20 rows\n",
      "\n",
      "p-value= 1.0\n"
     ]
    }
   ],
   "source": [
    "summarize_churn_catagorical('location_state')"
   ]
  },
  {
   "cell_type": "code",
   "execution_count": 51,
   "metadata": {},
   "outputs": [
    {
     "name": "stdout",
     "output_type": "stream",
     "text": [
      "+-----+----------+-----+\n",
      "|churn|  platform|count|\n",
      "+-----+----------+-----+\n",
      "|    0|compatible|    5|\n",
      "|    0|      iPad|    3|\n",
      "|    0|    iPhone|   13|\n",
      "|    0|       X11|   12|\n",
      "|    0|   Windows|  106|\n",
      "|    0| Macintosh|   86|\n",
      "+-----+----------+-----+\n",
      "\n",
      "p-value= 1.0\n"
     ]
    }
   ],
   "source": [
    "summarize_churn_catagorical('platform')"
   ]
  },
  {
   "cell_type": "code",
   "execution_count": 52,
   "metadata": {},
   "outputs": [
    {
     "data": {
      "text/html": [
       "<div>\n",
       "<style scoped>\n",
       "    .dataframe tbody tr th:only-of-type {\n",
       "        vertical-align: middle;\n",
       "    }\n",
       "\n",
       "    .dataframe tbody tr th {\n",
       "        vertical-align: top;\n",
       "    }\n",
       "\n",
       "    .dataframe thead th {\n",
       "        text-align: right;\n",
       "    }\n",
       "</style>\n",
       "<table border=\"1\" class=\"dataframe\">\n",
       "  <thead>\n",
       "    <tr style=\"text-align: right;\">\n",
       "      <th></th>\n",
       "      <th>page</th>\n",
       "      <th>churn</th>\n",
       "      <th>count</th>\n",
       "      <th>percentage</th>\n",
       "    </tr>\n",
       "  </thead>\n",
       "  <tbody>\n",
       "    <tr>\n",
       "      <th>0</th>\n",
       "      <td>NextSong</td>\n",
       "      <td>0</td>\n",
       "      <td>228108</td>\n",
       "      <td>100.0</td>\n",
       "    </tr>\n",
       "  </tbody>\n",
       "</table>\n",
       "</div>"
      ],
      "text/plain": [
       "       page  churn   count  percentage\n",
       "0  NextSong  0      228108  100.0     "
      ]
     },
     "execution_count": 52,
     "metadata": {},
     "output_type": "execute_result"
    }
   ],
   "source": [
    "# Catagorical variable into numerical: pages (percentage of each page), datetime\n",
    "# page\n",
    "page_data = df_clean_churn.select(['page', 'churn']).groupBy(['page', 'churn']).count().toPandas()\n",
    "page_data['percentage'] = 100 * page_data['count'] / page_data.groupby('churn')['count'].transform('sum')\n",
    "page_data"
   ]
  },
  {
   "cell_type": "code",
   "execution_count": 53,
   "metadata": {},
   "outputs": [
    {
     "data": {
      "image/png": "[encoded data removed]",
      "text/plain": [
       "<matplotlib.figure.Figure at 0x7ff0d8bbe208>"
      ]
     },
     "metadata": {
      "needs_background": "light"
     },
     "output_type": "display_data"
    }
   ],
   "source": [
    "plt.figure(figsize=(12, 16), dpi=80)\n",
    "sns.barplot(y = 'page', x = 'percentage', hue = 'churn', data = page_data);"
   ]
  },
  {
   "cell_type": "code",
   "execution_count": 54,
   "metadata": {},
   "outputs": [],
   "source": [
    "# percentage looks similar, only a bit more thumbs down and roll advert"
   ]
  },
  {
   "cell_type": "code",
   "execution_count": 55,
   "metadata": {},
   "outputs": [
    {
     "data": {
      "text/plain": [
       "[Row(artist='Sleeping With Sirens', auth='Logged In', firstName='Darianna', gender='F', itemInSession=0, lastName='Carpenter', length=202.97098, level='free', location='Bridgeport-Stamford-Norwalk, CT', method='PUT', page='NextSong', registration=1538016340000, sessionId=31, song='Captain Tyin Knots VS Mr Walkway (No Way)', status=200, ts=1539003534000, userAgent='\"Mozilla/5.0 (iPhone; CPU iPhone OS 7_1_2 like Mac OS X) AppleWebKit/537.51.2 (KHTML, like Gecko) Version/7.0 Mobile/11D257 Safari/9537.53\"', userId='100010', datetime='2018-10-08 12:58:54', flag_churn=0, churn=0, location_state='CT', platform='iPhone', weekday='1', day='8', hour='12')]"
      ]
     },
     "execution_count": 55,
     "metadata": {},
     "output_type": "execute_result"
    }
   ],
   "source": [
    "# summarize datetime, get month, weekday, day and hour from timestamp.\n",
    "get_weekday = udf(lambda x: str(datetime.datetime.fromtimestamp(x/1000.0).strftime('%w')))\n",
    "get_day = udf(lambda x: str(datetime.datetime.fromtimestamp(x/1000.0).day))\n",
    "get_hour = udf(lambda x: str(datetime.datetime.fromtimestamp(x/1000.0).hour))\n",
    "\n",
    "df_clean_churn = df_clean_churn.withColumn(\"weekday\", get_weekday(\"ts\"))\n",
    "df_clean_churn = df_clean_churn.withColumn(\"day\", get_day(\"ts\"))\n",
    "df_clean_churn = df_clean_churn.withColumn(\"hour\", get_hour(\"ts\"))\n",
    "df_clean_churn.take(1)"
   ]
  },
  {
   "cell_type": "code",
   "execution_count": 56,
   "metadata": {},
   "outputs": [],
   "source": [
    "def summarize_percentage_catagorial(col):\n",
    "    '''\n",
    "    INPUT: variable --> a catogorical variable: this catagorial variable changes by session\n",
    "    \n",
    "    DESCRIPTION: This function plot the percentage of the subgroups for the catagorial variable between users churned or not.\n",
    "    \n",
    "    '''\n",
    "    col_data = df_clean_churn.select([col, 'churn']).groupBy([col, 'churn']).count().toPandas()\n",
    "    col_data['percentage'] = 100 * col_data['count'] / col_data.groupby('churn')['count'].transform('sum')\n",
    "    plt.figure(figsize=(16, 6), dpi=80)\n",
    "    sns.barplot(x = col, y = 'percentage', hue = 'churn', data = col_data, order = list(map(lambda x: str(x), range(len(col_data[col].unique())+1))));\n"
   ]
  },
  {
   "cell_type": "code",
   "execution_count": 57,
   "metadata": {},
   "outputs": [
    {
     "data": {
      "image/png": "[encoded data removed]",
      "text/plain": [
       "<matplotlib.figure.Figure at 0x7ff1053aa630>"
      ]
     },
     "metadata": {
      "needs_background": "light"
     },
     "output_type": "display_data"
    }
   ],
   "source": [
    "summarize_percentage_catagorial(\"weekday\")"
   ]
  },
  {
   "cell_type": "code",
   "execution_count": 58,
   "metadata": {},
   "outputs": [
    {
     "data": {
      "image/png": "[encoded data removed]",
      "text/plain": [
       "<matplotlib.figure.Figure at 0x7ff0d8343a20>"
      ]
     },
     "metadata": {
      "needs_background": "light"
     },
     "output_type": "display_data"
    }
   ],
   "source": [
    "summarize_percentage_catagorial(\"day\")"
   ]
  },
  {
   "cell_type": "code",
   "execution_count": 59,
   "metadata": {},
   "outputs": [
    {
     "data": {
      "image/png": "[encoded data removed]",
      "text/plain": [
       "<matplotlib.figure.Figure at 0x7ff0d3e34a90>"
      ]
     },
     "metadata": {
      "needs_background": "light"
     },
     "output_type": "display_data"
    }
   ],
   "source": [
    "summarize_percentage_catagorial(\"hour\")"
   ]
  },
  {
   "cell_type": "code",
   "execution_count": 60,
   "metadata": {},
   "outputs": [],
   "source": [
    "# Weekday look similar, but day in the month seems to have very different patterns between users who churned and who not. \n",
    "# Churned users are more active in the first half of the month.\n",
    "# For hour of the day, users who churned seems to use it more during 15-20 hours, and less during 3-12 hours.\n",
    "# New variables [percentage of use in the first half of the month] and [percentage of use in the first half of the day] can\n",
    "# be used to train the model."
   ]
  },
  {
   "cell_type": "code",
   "execution_count": 61,
   "metadata": {},
   "outputs": [],
   "source": [
    "# Explore numerical features: average number of items in each session, total length/average length per session, number of unique songs listened, the number of artists listened to\n",
    "\n",
    "agg_data = df_clean_churn.select(['userId', 'churn','itemInSession','length', 'song', 'artist']).groupby(['userId']) \\\n",
    "        .agg(fmax('churn').alias('churn'),\n",
    "            avg('itemInSession').alias('average_itemInSession'),\n",
    "            avg('length').alias('average_length'),\n",
    "            fsum('length').alias('total_length'),\n",
    "            approx_count_distinct('song').alias('num_unique_songs'),\n",
    "            approx_count_distinct('artist').alias('num_unique_artists')).toPandas()"
   ]
  },
  {
   "cell_type": "code",
   "execution_count": 62,
   "metadata": {},
   "outputs": [
    {
     "data": {
      "text/html": [
       "<div>\n",
       "<style scoped>\n",
       "    .dataframe tbody tr th:only-of-type {\n",
       "        vertical-align: middle;\n",
       "    }\n",
       "\n",
       "    .dataframe tbody tr th {\n",
       "        vertical-align: top;\n",
       "    }\n",
       "\n",
       "    .dataframe thead th {\n",
       "        text-align: right;\n",
       "    }\n",
       "</style>\n",
       "<table border=\"1\" class=\"dataframe\">\n",
       "  <thead>\n",
       "    <tr style=\"text-align: right;\">\n",
       "      <th></th>\n",
       "      <th>userId</th>\n",
       "      <th>churn</th>\n",
       "      <th>average_itemInSession</th>\n",
       "      <th>average_length</th>\n",
       "      <th>total_length</th>\n",
       "      <th>num_unique_songs</th>\n",
       "      <th>num_unique_artists</th>\n",
       "    </tr>\n",
       "  </thead>\n",
       "  <tbody>\n",
       "    <tr>\n",
       "      <th>0</th>\n",
       "      <td>100010</td>\n",
       "      <td>0</td>\n",
       "      <td>35.414545</td>\n",
       "      <td>243.421445</td>\n",
       "      <td>6.694090e+04</td>\n",
       "      <td>274</td>\n",
       "      <td>249</td>\n",
       "    </tr>\n",
       "    <tr>\n",
       "      <th>1</th>\n",
       "      <td>200002</td>\n",
       "      <td>0</td>\n",
       "      <td>61.870801</td>\n",
       "      <td>242.916992</td>\n",
       "      <td>9.400888e+04</td>\n",
       "      <td>377</td>\n",
       "      <td>330</td>\n",
       "    </tr>\n",
       "    <tr>\n",
       "      <th>2</th>\n",
       "      <td>125</td>\n",
       "      <td>0</td>\n",
       "      <td>3.500000</td>\n",
       "      <td>261.139138</td>\n",
       "      <td>2.089113e+03</td>\n",
       "      <td>8</td>\n",
       "      <td>8</td>\n",
       "    </tr>\n",
       "    <tr>\n",
       "      <th>3</th>\n",
       "      <td>124</td>\n",
       "      <td>0</td>\n",
       "      <td>165.624418</td>\n",
       "      <td>248.176537</td>\n",
       "      <td>1.012312e+06</td>\n",
       "      <td>3279</td>\n",
       "      <td>2197</td>\n",
       "    </tr>\n",
       "    <tr>\n",
       "      <th>4</th>\n",
       "      <td>51</td>\n",
       "      <td>0</td>\n",
       "      <td>198.722880</td>\n",
       "      <td>247.880551</td>\n",
       "      <td>5.232758e+05</td>\n",
       "      <td>1897</td>\n",
       "      <td>1392</td>\n",
       "    </tr>\n",
       "    <tr>\n",
       "      <th>5</th>\n",
       "      <td>7</td>\n",
       "      <td>0</td>\n",
       "      <td>27.686667</td>\n",
       "      <td>253.560581</td>\n",
       "      <td>3.803409e+04</td>\n",
       "      <td>150</td>\n",
       "      <td>137</td>\n",
       "    </tr>\n",
       "    <tr>\n",
       "      <th>6</th>\n",
       "      <td>15</td>\n",
       "      <td>0</td>\n",
       "      <td>115.996343</td>\n",
       "      <td>249.377015</td>\n",
       "      <td>4.773076e+05</td>\n",
       "      <td>1765</td>\n",
       "      <td>1311</td>\n",
       "    </tr>\n",
       "    <tr>\n",
       "      <th>7</th>\n",
       "      <td>54</td>\n",
       "      <td>0</td>\n",
       "      <td>116.610348</td>\n",
       "      <td>250.385399</td>\n",
       "      <td>7.113449e+05</td>\n",
       "      <td>2464</td>\n",
       "      <td>1731</td>\n",
       "    </tr>\n",
       "    <tr>\n",
       "      <th>8</th>\n",
       "      <td>155</td>\n",
       "      <td>0</td>\n",
       "      <td>119.181707</td>\n",
       "      <td>242.413771</td>\n",
       "      <td>1.987793e+05</td>\n",
       "      <td>751</td>\n",
       "      <td>615</td>\n",
       "    </tr>\n",
       "    <tr>\n",
       "      <th>9</th>\n",
       "      <td>100014</td>\n",
       "      <td>0</td>\n",
       "      <td>32.984436</td>\n",
       "      <td>263.437635</td>\n",
       "      <td>6.770347e+04</td>\n",
       "      <td>264</td>\n",
       "      <td>242</td>\n",
       "    </tr>\n",
       "    <tr>\n",
       "      <th>10</th>\n",
       "      <td>132</td>\n",
       "      <td>0</td>\n",
       "      <td>139.999481</td>\n",
       "      <td>250.580344</td>\n",
       "      <td>4.831189e+05</td>\n",
       "      <td>1652</td>\n",
       "      <td>1249</td>\n",
       "    </tr>\n",
       "    <tr>\n",
       "      <th>11</th>\n",
       "      <td>154</td>\n",
       "      <td>0</td>\n",
       "      <td>26.488095</td>\n",
       "      <td>245.952666</td>\n",
       "      <td>2.066002e+04</td>\n",
       "      <td>79</td>\n",
       "      <td>79</td>\n",
       "    </tr>\n",
       "    <tr>\n",
       "      <th>12</th>\n",
       "      <td>101</td>\n",
       "      <td>0</td>\n",
       "      <td>260.981080</td>\n",
       "      <td>249.006129</td>\n",
       "      <td>4.474640e+05</td>\n",
       "      <td>1622</td>\n",
       "      <td>1280</td>\n",
       "    </tr>\n",
       "    <tr>\n",
       "      <th>13</th>\n",
       "      <td>11</td>\n",
       "      <td>0</td>\n",
       "      <td>48.374034</td>\n",
       "      <td>246.785105</td>\n",
       "      <td>1.596700e+05</td>\n",
       "      <td>608</td>\n",
       "      <td>544</td>\n",
       "    </tr>\n",
       "    <tr>\n",
       "      <th>14</th>\n",
       "      <td>138</td>\n",
       "      <td>0</td>\n",
       "      <td>199.851691</td>\n",
       "      <td>247.560330</td>\n",
       "      <td>5.124499e+05</td>\n",
       "      <td>1835</td>\n",
       "      <td>1324</td>\n",
       "    </tr>\n",
       "    <tr>\n",
       "      <th>15</th>\n",
       "      <td>300017</td>\n",
       "      <td>0</td>\n",
       "      <td>64.749725</td>\n",
       "      <td>247.083420</td>\n",
       "      <td>8.974070e+05</td>\n",
       "      <td>3030</td>\n",
       "      <td>1972</td>\n",
       "    </tr>\n",
       "    <tr>\n",
       "      <th>16</th>\n",
       "      <td>100021</td>\n",
       "      <td>0</td>\n",
       "      <td>64.600000</td>\n",
       "      <td>250.579025</td>\n",
       "      <td>5.763318e+04</td>\n",
       "      <td>234</td>\n",
       "      <td>199</td>\n",
       "    </tr>\n",
       "    <tr>\n",
       "      <th>17</th>\n",
       "      <td>29</td>\n",
       "      <td>0</td>\n",
       "      <td>156.424042</td>\n",
       "      <td>249.180173</td>\n",
       "      <td>7.545176e+05</td>\n",
       "      <td>2589</td>\n",
       "      <td>1830</td>\n",
       "    </tr>\n",
       "    <tr>\n",
       "      <th>18</th>\n",
       "      <td>69</td>\n",
       "      <td>0</td>\n",
       "      <td>133.383111</td>\n",
       "      <td>254.279134</td>\n",
       "      <td>2.860640e+05</td>\n",
       "      <td>1098</td>\n",
       "      <td>797</td>\n",
       "    </tr>\n",
       "    <tr>\n",
       "      <th>19</th>\n",
       "      <td>112</td>\n",
       "      <td>0</td>\n",
       "      <td>29.390698</td>\n",
       "      <td>246.803473</td>\n",
       "      <td>5.306275e+04</td>\n",
       "      <td>214</td>\n",
       "      <td>189</td>\n",
       "    </tr>\n",
       "    <tr>\n",
       "      <th>20</th>\n",
       "      <td>42</td>\n",
       "      <td>0</td>\n",
       "      <td>82.419256</td>\n",
       "      <td>246.793441</td>\n",
       "      <td>8.817930e+05</td>\n",
       "      <td>2942</td>\n",
       "      <td>2153</td>\n",
       "    </tr>\n",
       "    <tr>\n",
       "      <th>21</th>\n",
       "      <td>73</td>\n",
       "      <td>0</td>\n",
       "      <td>59.822281</td>\n",
       "      <td>249.974407</td>\n",
       "      <td>9.424035e+04</td>\n",
       "      <td>363</td>\n",
       "      <td>357</td>\n",
       "    </tr>\n",
       "    <tr>\n",
       "      <th>22</th>\n",
       "      <td>87</td>\n",
       "      <td>0</td>\n",
       "      <td>34.441982</td>\n",
       "      <td>252.464093</td>\n",
       "      <td>1.936400e+05</td>\n",
       "      <td>726</td>\n",
       "      <td>686</td>\n",
       "    </tr>\n",
       "    <tr>\n",
       "      <th>23</th>\n",
       "      <td>200010</td>\n",
       "      <td>0</td>\n",
       "      <td>36.400844</td>\n",
       "      <td>256.441424</td>\n",
       "      <td>6.077662e+04</td>\n",
       "      <td>233</td>\n",
       "      <td>219</td>\n",
       "    </tr>\n",
       "    <tr>\n",
       "      <th>24</th>\n",
       "      <td>64</td>\n",
       "      <td>0</td>\n",
       "      <td>21.869565</td>\n",
       "      <td>250.659777</td>\n",
       "      <td>1.153035e+04</td>\n",
       "      <td>46</td>\n",
       "      <td>46</td>\n",
       "    </tr>\n",
       "    <tr>\n",
       "      <th>25</th>\n",
       "      <td>3</td>\n",
       "      <td>0</td>\n",
       "      <td>46.107477</td>\n",
       "      <td>254.321240</td>\n",
       "      <td>5.442475e+04</td>\n",
       "      <td>204</td>\n",
       "      <td>204</td>\n",
       "    </tr>\n",
       "    <tr>\n",
       "      <th>26</th>\n",
       "      <td>113</td>\n",
       "      <td>0</td>\n",
       "      <td>58.292744</td>\n",
       "      <td>252.425320</td>\n",
       "      <td>4.000941e+05</td>\n",
       "      <td>1419</td>\n",
       "      <td>1089</td>\n",
       "    </tr>\n",
       "    <tr>\n",
       "      <th>27</th>\n",
       "      <td>30</td>\n",
       "      <td>0</td>\n",
       "      <td>88.666902</td>\n",
       "      <td>253.922545</td>\n",
       "      <td>3.598082e+05</td>\n",
       "      <td>1171</td>\n",
       "      <td>963</td>\n",
       "    </tr>\n",
       "    <tr>\n",
       "      <th>28</th>\n",
       "      <td>34</td>\n",
       "      <td>0</td>\n",
       "      <td>13.358491</td>\n",
       "      <td>243.982727</td>\n",
       "      <td>1.293108e+04</td>\n",
       "      <td>52</td>\n",
       "      <td>54</td>\n",
       "    </tr>\n",
       "    <tr>\n",
       "      <th>29</th>\n",
       "      <td>133</td>\n",
       "      <td>0</td>\n",
       "      <td>22.843750</td>\n",
       "      <td>250.911384</td>\n",
       "      <td>8.029164e+03</td>\n",
       "      <td>32</td>\n",
       "      <td>32</td>\n",
       "    </tr>\n",
       "    <tr>\n",
       "      <th>...</th>\n",
       "      <td>...</td>\n",
       "      <td>...</td>\n",
       "      <td>...</td>\n",
       "      <td>...</td>\n",
       "      <td>...</td>\n",
       "      <td>...</td>\n",
       "      <td>...</td>\n",
       "    </tr>\n",
       "    <tr>\n",
       "      <th>195</th>\n",
       "      <td>83</td>\n",
       "      <td>0</td>\n",
       "      <td>64.338462</td>\n",
       "      <td>248.915921</td>\n",
       "      <td>3.074112e+05</td>\n",
       "      <td>1124</td>\n",
       "      <td>932</td>\n",
       "    </tr>\n",
       "    <tr>\n",
       "      <th>196</th>\n",
       "      <td>109</td>\n",
       "      <td>0</td>\n",
       "      <td>81.570432</td>\n",
       "      <td>249.596850</td>\n",
       "      <td>1.789609e+05</td>\n",
       "      <td>675</td>\n",
       "      <td>615</td>\n",
       "    </tr>\n",
       "    <tr>\n",
       "      <th>197</th>\n",
       "      <td>123</td>\n",
       "      <td>0</td>\n",
       "      <td>15.766667</td>\n",
       "      <td>234.696341</td>\n",
       "      <td>3.520445e+04</td>\n",
       "      <td>147</td>\n",
       "      <td>147</td>\n",
       "    </tr>\n",
       "    <tr>\n",
       "      <th>198</th>\n",
       "      <td>200022</td>\n",
       "      <td>0</td>\n",
       "      <td>63.462644</td>\n",
       "      <td>246.960729</td>\n",
       "      <td>8.594233e+04</td>\n",
       "      <td>309</td>\n",
       "      <td>307</td>\n",
       "    </tr>\n",
       "    <tr>\n",
       "      <th>199</th>\n",
       "      <td>13</td>\n",
       "      <td>0</td>\n",
       "      <td>78.171094</td>\n",
       "      <td>245.030485</td>\n",
       "      <td>3.136390e+05</td>\n",
       "      <td>1257</td>\n",
       "      <td>944</td>\n",
       "    </tr>\n",
       "    <tr>\n",
       "      <th>200</th>\n",
       "      <td>200019</td>\n",
       "      <td>0</td>\n",
       "      <td>52.410101</td>\n",
       "      <td>246.137715</td>\n",
       "      <td>1.218382e+05</td>\n",
       "      <td>461</td>\n",
       "      <td>423</td>\n",
       "    </tr>\n",
       "    <tr>\n",
       "      <th>201</th>\n",
       "      <td>14</td>\n",
       "      <td>0</td>\n",
       "      <td>106.431707</td>\n",
       "      <td>247.787519</td>\n",
       "      <td>3.047786e+05</td>\n",
       "      <td>1142</td>\n",
       "      <td>868</td>\n",
       "    </tr>\n",
       "    <tr>\n",
       "      <th>202</th>\n",
       "      <td>21</td>\n",
       "      <td>0</td>\n",
       "      <td>122.054108</td>\n",
       "      <td>242.194696</td>\n",
       "      <td>1.208552e+05</td>\n",
       "      <td>459</td>\n",
       "      <td>419</td>\n",
       "    </tr>\n",
       "    <tr>\n",
       "      <th>203</th>\n",
       "      <td>66</td>\n",
       "      <td>0</td>\n",
       "      <td>66.241148</td>\n",
       "      <td>249.307675</td>\n",
       "      <td>2.605265e+05</td>\n",
       "      <td>983</td>\n",
       "      <td>774</td>\n",
       "    </tr>\n",
       "    <tr>\n",
       "      <th>204</th>\n",
       "      <td>91</td>\n",
       "      <td>0</td>\n",
       "      <td>377.893798</td>\n",
       "      <td>247.979256</td>\n",
       "      <td>6.397865e+05</td>\n",
       "      <td>2246</td>\n",
       "      <td>1540</td>\n",
       "    </tr>\n",
       "    <tr>\n",
       "      <th>205</th>\n",
       "      <td>94</td>\n",
       "      <td>0</td>\n",
       "      <td>24.198630</td>\n",
       "      <td>256.224092</td>\n",
       "      <td>3.740872e+04</td>\n",
       "      <td>143</td>\n",
       "      <td>134</td>\n",
       "    </tr>\n",
       "    <tr>\n",
       "      <th>206</th>\n",
       "      <td>137</td>\n",
       "      <td>0</td>\n",
       "      <td>65.214286</td>\n",
       "      <td>249.258937</td>\n",
       "      <td>3.838588e+04</td>\n",
       "      <td>154</td>\n",
       "      <td>137</td>\n",
       "    </tr>\n",
       "    <tr>\n",
       "      <th>207</th>\n",
       "      <td>72</td>\n",
       "      <td>0</td>\n",
       "      <td>61.023529</td>\n",
       "      <td>234.835753</td>\n",
       "      <td>1.996104e+04</td>\n",
       "      <td>82</td>\n",
       "      <td>79</td>\n",
       "    </tr>\n",
       "    <tr>\n",
       "      <th>208</th>\n",
       "      <td>74</td>\n",
       "      <td>0</td>\n",
       "      <td>117.199583</td>\n",
       "      <td>250.777146</td>\n",
       "      <td>6.018652e+05</td>\n",
       "      <td>2028</td>\n",
       "      <td>1532</td>\n",
       "    </tr>\n",
       "    <tr>\n",
       "      <th>209</th>\n",
       "      <td>300016</td>\n",
       "      <td>0</td>\n",
       "      <td>47.152659</td>\n",
       "      <td>248.433267</td>\n",
       "      <td>1.448366e+05</td>\n",
       "      <td>547</td>\n",
       "      <td>454</td>\n",
       "    </tr>\n",
       "    <tr>\n",
       "      <th>210</th>\n",
       "      <td>151</td>\n",
       "      <td>0</td>\n",
       "      <td>82.086957</td>\n",
       "      <td>235.370573</td>\n",
       "      <td>3.248114e+04</td>\n",
       "      <td>128</td>\n",
       "      <td>126</td>\n",
       "    </tr>\n",
       "    <tr>\n",
       "      <th>211</th>\n",
       "      <td>200015</td>\n",
       "      <td>0</td>\n",
       "      <td>39.356589</td>\n",
       "      <td>236.530829</td>\n",
       "      <td>6.102495e+04</td>\n",
       "      <td>233</td>\n",
       "      <td>237</td>\n",
       "    </tr>\n",
       "    <tr>\n",
       "      <th>212</th>\n",
       "      <td>129</td>\n",
       "      <td>0</td>\n",
       "      <td>81.628399</td>\n",
       "      <td>245.321068</td>\n",
       "      <td>8.120127e+04</td>\n",
       "      <td>331</td>\n",
       "      <td>272</td>\n",
       "    </tr>\n",
       "    <tr>\n",
       "      <th>213</th>\n",
       "      <td>76</td>\n",
       "      <td>0</td>\n",
       "      <td>25.849057</td>\n",
       "      <td>251.084460</td>\n",
       "      <td>5.322991e+04</td>\n",
       "      <td>205</td>\n",
       "      <td>204</td>\n",
       "    </tr>\n",
       "    <tr>\n",
       "      <th>214</th>\n",
       "      <td>2</td>\n",
       "      <td>0</td>\n",
       "      <td>134.536424</td>\n",
       "      <td>249.917064</td>\n",
       "      <td>1.886874e+05</td>\n",
       "      <td>671</td>\n",
       "      <td>592</td>\n",
       "    </tr>\n",
       "    <tr>\n",
       "      <th>215</th>\n",
       "      <td>100002</td>\n",
       "      <td>0</td>\n",
       "      <td>86.676923</td>\n",
       "      <td>254.153426</td>\n",
       "      <td>4.955992e+04</td>\n",
       "      <td>187</td>\n",
       "      <td>189</td>\n",
       "    </tr>\n",
       "    <tr>\n",
       "      <th>216</th>\n",
       "      <td>100018</td>\n",
       "      <td>0</td>\n",
       "      <td>79.146707</td>\n",
       "      <td>248.034259</td>\n",
       "      <td>2.485303e+05</td>\n",
       "      <td>1004</td>\n",
       "      <td>760</td>\n",
       "    </tr>\n",
       "    <tr>\n",
       "      <th>217</th>\n",
       "      <td>80</td>\n",
       "      <td>0</td>\n",
       "      <td>32.384196</td>\n",
       "      <td>243.790255</td>\n",
       "      <td>8.947102e+04</td>\n",
       "      <td>359</td>\n",
       "      <td>313</td>\n",
       "    </tr>\n",
       "    <tr>\n",
       "      <th>218</th>\n",
       "      <td>145</td>\n",
       "      <td>0</td>\n",
       "      <td>79.454384</td>\n",
       "      <td>254.134718</td>\n",
       "      <td>2.869181e+05</td>\n",
       "      <td>1049</td>\n",
       "      <td>857</td>\n",
       "    </tr>\n",
       "    <tr>\n",
       "      <th>219</th>\n",
       "      <td>50</td>\n",
       "      <td>0</td>\n",
       "      <td>59.403579</td>\n",
       "      <td>244.038321</td>\n",
       "      <td>1.227513e+05</td>\n",
       "      <td>471</td>\n",
       "      <td>437</td>\n",
       "    </tr>\n",
       "    <tr>\n",
       "      <th>220</th>\n",
       "      <td>45</td>\n",
       "      <td>0</td>\n",
       "      <td>137.599730</td>\n",
       "      <td>247.397727</td>\n",
       "      <td>3.671382e+05</td>\n",
       "      <td>1360</td>\n",
       "      <td>1098</td>\n",
       "    </tr>\n",
       "    <tr>\n",
       "      <th>221</th>\n",
       "      <td>57</td>\n",
       "      <td>0</td>\n",
       "      <td>27.586957</td>\n",
       "      <td>230.826308</td>\n",
       "      <td>2.123602e+04</td>\n",
       "      <td>88</td>\n",
       "      <td>92</td>\n",
       "    </tr>\n",
       "    <tr>\n",
       "      <th>222</th>\n",
       "      <td>200021</td>\n",
       "      <td>0</td>\n",
       "      <td>81.139364</td>\n",
       "      <td>245.084067</td>\n",
       "      <td>3.007182e+05</td>\n",
       "      <td>1115</td>\n",
       "      <td>884</td>\n",
       "    </tr>\n",
       "    <tr>\n",
       "      <th>223</th>\n",
       "      <td>119</td>\n",
       "      <td>0</td>\n",
       "      <td>28.254335</td>\n",
       "      <td>258.485256</td>\n",
       "      <td>4.471795e+04</td>\n",
       "      <td>168</td>\n",
       "      <td>165</td>\n",
       "    </tr>\n",
       "    <tr>\n",
       "      <th>224</th>\n",
       "      <td>100001</td>\n",
       "      <td>0</td>\n",
       "      <td>29.000000</td>\n",
       "      <td>263.712347</td>\n",
       "      <td>3.507374e+04</td>\n",
       "      <td>133</td>\n",
       "      <td>128</td>\n",
       "    </tr>\n",
       "  </tbody>\n",
       "</table>\n",
       "<p>225 rows × 7 columns</p>\n",
       "</div>"
      ],
      "text/plain": [
       "     userId  churn  average_itemInSession  average_length  total_length  \\\n",
       "0    100010  0      35.414545              243.421445      6.694090e+04   \n",
       "1    200002  0      61.870801              242.916992      9.400888e+04   \n",
       "2    125     0      3.500000               261.139138      2.089113e+03   \n",
       "3    124     0      165.624418             248.176537      1.012312e+06   \n",
       "4    51      0      198.722880             247.880551      5.232758e+05   \n",
       "5    7       0      27.686667              253.560581      3.803409e+04   \n",
       "6    15      0      115.996343             249.377015      4.773076e+05   \n",
       "7    54      0      116.610348             250.385399      7.113449e+05   \n",
       "8    155     0      119.181707             242.413771      1.987793e+05   \n",
       "9    100014  0      32.984436              263.437635      6.770347e+04   \n",
       "10   132     0      139.999481             250.580344      4.831189e+05   \n",
       "11   154     0      26.488095              245.952666      2.066002e+04   \n",
       "12   101     0      260.981080             249.006129      4.474640e+05   \n",
       "13   11      0      48.374034              246.785105      1.596700e+05   \n",
       "14   138     0      199.851691             247.560330      5.124499e+05   \n",
       "15   300017  0      64.749725              247.083420      8.974070e+05   \n",
       "16   100021  0      64.600000              250.579025      5.763318e+04   \n",
       "17   29      0      156.424042             249.180173      7.545176e+05   \n",
       "18   69      0      133.383111             254.279134      2.860640e+05   \n",
       "19   112     0      29.390698              246.803473      5.306275e+04   \n",
       "20   42      0      82.419256              246.793441      8.817930e+05   \n",
       "21   73      0      59.822281              249.974407      9.424035e+04   \n",
       "22   87      0      34.441982              252.464093      1.936400e+05   \n",
       "23   200010  0      36.400844              256.441424      6.077662e+04   \n",
       "24   64      0      21.869565              250.659777      1.153035e+04   \n",
       "25   3       0      46.107477              254.321240      5.442475e+04   \n",
       "26   113     0      58.292744              252.425320      4.000941e+05   \n",
       "27   30      0      88.666902              253.922545      3.598082e+05   \n",
       "28   34      0      13.358491              243.982727      1.293108e+04   \n",
       "29   133     0      22.843750              250.911384      8.029164e+03   \n",
       "..   ...    ..            ...                     ...               ...   \n",
       "195  83      0      64.338462              248.915921      3.074112e+05   \n",
       "196  109     0      81.570432              249.596850      1.789609e+05   \n",
       "197  123     0      15.766667              234.696341      3.520445e+04   \n",
       "198  200022  0      63.462644              246.960729      8.594233e+04   \n",
       "199  13      0      78.171094              245.030485      3.136390e+05   \n",
       "200  200019  0      52.410101              246.137715      1.218382e+05   \n",
       "201  14      0      106.431707             247.787519      3.047786e+05   \n",
       "202  21      0      122.054108             242.194696      1.208552e+05   \n",
       "203  66      0      66.241148              249.307675      2.605265e+05   \n",
       "204  91      0      377.893798             247.979256      6.397865e+05   \n",
       "205  94      0      24.198630              256.224092      3.740872e+04   \n",
       "206  137     0      65.214286              249.258937      3.838588e+04   \n",
       "207  72      0      61.023529              234.835753      1.996104e+04   \n",
       "208  74      0      117.199583             250.777146      6.018652e+05   \n",
       "209  300016  0      47.152659              248.433267      1.448366e+05   \n",
       "210  151     0      82.086957              235.370573      3.248114e+04   \n",
       "211  200015  0      39.356589              236.530829      6.102495e+04   \n",
       "212  129     0      81.628399              245.321068      8.120127e+04   \n",
       "213  76      0      25.849057              251.084460      5.322991e+04   \n",
       "214  2       0      134.536424             249.917064      1.886874e+05   \n",
       "215  100002  0      86.676923              254.153426      4.955992e+04   \n",
       "216  100018  0      79.146707              248.034259      2.485303e+05   \n",
       "217  80      0      32.384196              243.790255      8.947102e+04   \n",
       "218  145     0      79.454384              254.134718      2.869181e+05   \n",
       "219  50      0      59.403579              244.038321      1.227513e+05   \n",
       "220  45      0      137.599730             247.397727      3.671382e+05   \n",
       "221  57      0      27.586957              230.826308      2.123602e+04   \n",
       "222  200021  0      81.139364              245.084067      3.007182e+05   \n",
       "223  119     0      28.254335              258.485256      4.471795e+04   \n",
       "224  100001  0      29.000000              263.712347      3.507374e+04   \n",
       "\n",
       "     num_unique_songs  num_unique_artists  \n",
       "0    274               249                 \n",
       "1    377               330                 \n",
       "2    8                 8                   \n",
       "3    3279              2197                \n",
       "4    1897              1392                \n",
       "5    150               137                 \n",
       "6    1765              1311                \n",
       "7    2464              1731                \n",
       "8    751               615                 \n",
       "9    264               242                 \n",
       "10   1652              1249                \n",
       "11   79                79                  \n",
       "12   1622              1280                \n",
       "13   608               544                 \n",
       "14   1835              1324                \n",
       "15   3030              1972                \n",
       "16   234               199                 \n",
       "17   2589              1830                \n",
       "18   1098              797                 \n",
       "19   214               189                 \n",
       "20   2942              2153                \n",
       "21   363               357                 \n",
       "22   726               686                 \n",
       "23   233               219                 \n",
       "24   46                46                  \n",
       "25   204               204                 \n",
       "26   1419              1089                \n",
       "27   1171              963                 \n",
       "28   52                54                  \n",
       "29   32                32                  \n",
       "..   ..                ..                  \n",
       "195  1124              932                 \n",
       "196  675               615                 \n",
       "197  147               147                 \n",
       "198  309               307                 \n",
       "199  1257              944                 \n",
       "200  461               423                 \n",
       "201  1142              868                 \n",
       "202  459               419                 \n",
       "203  983               774                 \n",
       "204  2246              1540                \n",
       "205  143               134                 \n",
       "206  154               137                 \n",
       "207  82                79                  \n",
       "208  2028              1532                \n",
       "209  547               454                 \n",
       "210  128               126                 \n",
       "211  233               237                 \n",
       "212  331               272                 \n",
       "213  205               204                 \n",
       "214  671               592                 \n",
       "215  187               189                 \n",
       "216  1004              760                 \n",
       "217  359               313                 \n",
       "218  1049              857                 \n",
       "219  471               437                 \n",
       "220  1360              1098                \n",
       "221  88                92                  \n",
       "222  1115              884                 \n",
       "223  168               165                 \n",
       "224  133               128                 \n",
       "\n",
       "[225 rows x 7 columns]"
      ]
     },
     "execution_count": 62,
     "metadata": {},
     "output_type": "execute_result"
    }
   ],
   "source": [
    "agg_data"
   ]
  },
  {
   "cell_type": "code",
   "execution_count": 63,
   "metadata": {},
   "outputs": [],
   "source": [
    "def summarize_numerial_variable(col):\n",
    "    '''\n",
    "    INPUT: col --> column name of a numerical variable in the dataset for which\n",
    "    we want to summarize.\n",
    "    \n",
    "    DESCRIPTION: This function prints the average value of this numerical variable \n",
    "    in users who churned and who did not,\n",
    "    and gives the p-value of the t-test comparison between the two groups.\n",
    "    '''\n",
    "    print(agg_data.groupby('churn')[col].mean())\n",
    "    print(ttest_ind(agg_data.loc[agg_data['churn'] == 0, col],agg_data.loc[agg_data['churn'] == 1, col]))"
   ]
  },
  {
   "cell_type": "code",
   "execution_count": 64,
   "metadata": {},
   "outputs": [
    {
     "name": "stdout",
     "output_type": "stream",
     "text": [
      "churn\n",
      "0    85.749782\n",
      "Name: average_itemInSession, dtype: float64\n",
      "Ttest_indResult(statistic=nan, pvalue=nan)\n",
      "churn\n",
      "0    248.948648\n",
      "Name: average_length, dtype: float64\n",
      "Ttest_indResult(statistic=nan, pvalue=nan)\n",
      "churn\n",
      "0    252558.320652\n",
      "Name: total_length, dtype: float64\n",
      "Ttest_indResult(statistic=nan, pvalue=nan)\n",
      "churn\n",
      "0    894.16\n",
      "Name: num_unique_songs, dtype: float64\n",
      "Ttest_indResult(statistic=nan, pvalue=nan)\n",
      "churn\n",
      "0    699.871111\n",
      "Name: num_unique_artists, dtype: float64\n",
      "Ttest_indResult(statistic=nan, pvalue=nan)\n"
     ]
    }
   ],
   "source": [
    "for column in agg_data.columns[2:]:\n",
    "    summarize_numerial_variable(column)"
   ]
  },
  {
   "cell_type": "code",
   "execution_count": 65,
   "metadata": {},
   "outputs": [],
   "source": [
    "# We can see that there is difference in total_length, num_unique_songs and num_unique_artists between \n",
    "# users who churned and users who have not churned\n",
    "# these three variables may be correlated. they represent the time that the user has been using the app.\n",
    "# average_itemInSession is nearly significantly different between the two groups:\n",
    "# the ones not churned using more items per session"
   ]
  },
  {
   "cell_type": "markdown",
   "metadata": {},
   "source": [
    "# Feature Engineering\n",
    "Once you've familiarized yourself with the data, build out the features you find promising to train your model on. To work with the full dataset, you can follow the following steps.\n",
    "- Write a script to extract the necessary features from the smaller subset of data\n",
    "- Ensure that your script is scalable, using the best practices discussed in Lesson 3\n",
    "- Try your script on the full data set, debugging your script if necessary\n",
    "\n",
    "If you are working in the classroom workspace, you can just extract features based on the small subset of data contained here. Be sure to transfer over this work to the larger dataset when you work on your Spark cluster."
   ]
  },
  {
   "cell_type": "code",
   "execution_count": 66,
   "metadata": {},
   "outputs": [],
   "source": [
    "# We will use the following features to train the model:\n",
    "# 1. catagorical variables: gender, (location_state), platform\n",
    "# 2. having visited page thumbs down or roll advert or not \n",
    "# 3. percentage of use in the first half of the month\n",
    "# 4. percentage of use in the first half of the day\n",
    "# 5. numerical variables: average_itemInSession, average_length, total_length, num_unique_songs, num_unique_artists"
   ]
  },
  {
   "cell_type": "code",
   "execution_count": 69,
   "metadata": {},
   "outputs": [],
   "source": [
    "# feature engineering functions\n",
    "# clean data\n",
    "def clean_data(df):\n",
    "    '''\n",
    "    INPUT: df --> the raw sparkify data.\n",
    "    OUTPUT: df_clean --> a new dataframe that removes empty strings in userId (users who logged out).\n",
    "    \n",
    "    DESCRIPTION: This function takes in the raw sparkify dataframe and cleans it.\n",
    "    \n",
    "    '''\n",
    "    # removes unidentifiable userIds\n",
    "    df_clean = df.filter(df['userId'] != '')\n",
    "    return df_clean\n",
    "\n",
    "# get new variables to get features\n",
    "\n",
    "def get_variables(df_clean):\n",
    "    '''\n",
    "    INPUT: df_clean --> dataframe without entries of logged out users.\n",
    "    OUTPUT: df_clean_churn --> a new dataframe that adds additional variables for further analyses.\n",
    "    \n",
    "    DESCRIPTION: This function adds the following variables to the data:\n",
    "    churn --> user churn status extracted from 'cancellation confirmation' from ['page']\n",
    "    platform --> platform extracted from ['userAgent'].\n",
    "    location_state --> the State of the user location extracted from ['location']\n",
    "    day --> day of the entry extracted from ['ts']\n",
    "    hour --> hour of the entry extracted from ['ts']\n",
    "    roll_advert --> whether the user has visited page 'Roll Advert'\n",
    "    thumbs_down --> whether the user has visited page 'Thumbs Down'\n",
    "    \n",
    "    '''\n",
    "        \n",
    "    # get churn variable\n",
    "    flag_churn = udf(lambda x: 1 if x == \"Cancellation Confirmation\" else 0, IntegerType())\n",
    "    df_clean_churn = df_clean.withColumn(\"flag_churn\", flag_churn(\"page\"))\n",
    "    df_clean_churn = df_clean_churn.withColumn('churn', fmax('flag_churn').over(Window.partitionBy('UserId')))\n",
    "    \n",
    "    # get platfrom variable\n",
    "    get_platform_udf = udf(lambda x: get_platform(x))\n",
    "    df_clean_churn = df_clean_churn.withColumn('platform', get_platform_udf(\"userAgent\"))\n",
    "    \n",
    "    # get location the state\n",
    "    get_state = udf(lambda x: x.split(', ')[1])\n",
    "    df_clean_churn = df_clean_churn.withColumn('location_state', get_state(\"location\"))\n",
    "    \n",
    "    # get weekday, day in a month, and hour in a day\n",
    "    get_weekday = udf(lambda x: str(datetime.datetime.fromtimestamp(x/1000.0).strftime('%w')))\n",
    "    get_day = udf(lambda x: str(datetime.datetime.fromtimestamp(x/1000.0).day))\n",
    "    get_hour = udf(lambda x: str(datetime.datetime.fromtimestamp(x/1000.0).hour))\n",
    "\n",
    "    df_clean_churn = df_clean_churn.withColumn(\"day\", get_day(\"ts\"))\n",
    "    df_clean_churn = df_clean_churn.withColumn(\"hour\", get_hour(\"ts\"))\n",
    "    \n",
    "    roll_advert = df_clean_churn.where(df_clean_churn.page == 'Roll Advert').select('userId').distinct()\n",
    "    roll_advert_list = list(roll_advert.select('userId').toPandas()['userId'])\n",
    "    if_roll_advert = udf(lambda x: 1 if (x in roll_advert_list) else 0)\n",
    "    df_clean_churn = df_clean_churn.withColumn('roll_advert', if_roll_advert('userId'))\n",
    "    \n",
    "    thumbs_down = df_clean_churn.where(df_clean_churn.page == 'Thumbs Down').select('userId').distinct()\n",
    "    thumbs_down_list = list(thumbs_down.select('userId').toPandas()['userId'])\n",
    "    if_thumbs_down = udf(lambda x: 1 if (x in thumbs_down_list) else 0)\n",
    "    df_clean_churn = df_clean_churn.withColumn('thumbs_down', if_thumbs_down('userId'))\n",
    "    \n",
    "    return df_clean_churn\n",
    "\n",
    "# encode catagorical variables (gender, location_state, platform)\n",
    "\n",
    "\n",
    "def get_percentage_use_first15days(df_clean_churn):\n",
    "    '''\n",
    "    INPUT: df_clean_churn --> the dataframe with additional variables.\n",
    "    OUTPUT: first15days --> a dataframe containing user information of their percentage \n",
    "    use in the first 15 days of month.\n",
    "    \n",
    "    DESCRIPTION: This function calculates the percentage of use in the first 15 days of \n",
    "    month for each user.\n",
    "    \n",
    "    '''\n",
    "    total_count = df_clean_churn.select(['userId']).groupby([\"userId\"]).count()\n",
    "    count_first15days = df_clean_churn.filter(df_clean_churn.day < 15).select(['userId']).groupby([\"userId\"]).count()\n",
    "    first15days = (total_count.alias(\"total\").join(count_first15days.alias(\"count_first15days\"), [\"userId\"]).\\\n",
    "                              select(col(\"userId\"), (col(\"count_first15days.count\") / col(\"total.count\")).\\\n",
    "                                     alias(\"percentage_use_first15days\")))\n",
    "    return first15days\n",
    "    \n",
    "    \n",
    "def get_percentage_use_after12h(df_clean_churn):\n",
    "    '''\n",
    "    INPUT: df_clean_churn --> the dataframe with additional variables.\n",
    "    OUTPUT: after12h --> a dataframe containing user information of their percentage \n",
    "    use after 12h in a day.\n",
    "    \n",
    "    DESCRIPTION: This function calculates the percentage of use after 12h in a day for \n",
    "    each user.\n",
    "    \n",
    "    '''  \n",
    "    total_count = df_clean_churn.select(['userId']).groupby([\"userId\"]).count()\n",
    "    count_first15days = df_clean_churn.filter(df_clean_churn.hour >12 ).select(['userId']).groupby([\"userId\"]).count()\n",
    "    after12h = (total_count.alias(\"total\").join(count_first15days.alias(\"count_after12h\"), [\"userId\"]).\\\n",
    "                              select(col(\"userId\"), (col(\"count_after12h.count\") / col(\"total.count\")).\\\n",
    "                                     alias(\"percentage_use_after12h\")))\n",
    "    return after12h\n",
    "  \n",
    "    \n",
    "def catogorical_encoding(df_clean_churn):\n",
    "    '''\n",
    "    INPUT: df_clean_churn --> the dataframe with additional variables.\n",
    "    OUTPUT: cata_data --> a dataframe containing catagorical variables.\n",
    "    \n",
    "    DESCRIPTION: This function takes out selected catagorical variables from the dataframe.\n",
    "    \n",
    "    '''  \n",
    "    cata_data = df_clean_churn.select(['userId', 'roll_advert', 'thumbs_down', 'gender', 'location_state', 'platform']).dropDuplicates()\n",
    "    return cata_data\n",
    "\n",
    "\n",
    "def numerical_encoding(df_clean_churn):\n",
    "    '''\n",
    "    INPUT: df_clean_churn --> the dataframe with additional variables.\n",
    "    OUTPUT: agg_data --> a dataframe containing numerical variables.\n",
    "    \n",
    "    DESCRIPTION: This function takes out selected numerical variables from the dataframe.\n",
    "    \n",
    "    '''  \n",
    "    agg_data = df_clean_churn.select(['userId', 'churn','itemInSession','length']).groupby(['userId']) \\\n",
    "        .agg(fmax('churn').alias('label'),\n",
    "            avg('itemInSession').alias('average_itemInSession'),\n",
    "            avg('length').alias('average_length'),\n",
    "            fsum('length').alias('total_length'))\n",
    "    agg_song_artist = df_clean_churn.filter(df_clean_churn.page == 'NextSong').select(['userId','song', 'artist']) \\\n",
    "            .groupby(['userId']) \\\n",
    "            .agg(approx_count_distinct('song').alias('num_unique_songs'),\n",
    "               approx_count_distinct('artist').alias('num_unique_artists'))\n",
    "    agg_data = agg_data.join(agg_song_artist, 'userId', \"inner\")\n",
    "    return agg_data\n",
    "\n",
    "\n",
    "def get_features(df_clean_churn):\n",
    "    '''\n",
    "    INPUT: df_clean_churn --> the dataframe with additional variables.\n",
    "    OUTPUT: data --> a dataframe containing variables that will be used for churn prediction.\n",
    "    \n",
    "    DESCRIPTION: This function get variables that will be used for churn prediction and combine \n",
    "    them as one dataframe.\n",
    "    \n",
    "    '''  \n",
    "    use_first15_days = get_percentage_use_first15days(df_clean_churn)\n",
    "    user_after12h = get_percentage_use_after12h(df_clean_churn)\n",
    "    catagorical_variables = catogorical_encoding(df_clean_churn)\n",
    "    numerical_variables = numerical_encoding(df_clean_churn)\n",
    "    data = numerical_variables.join(use_first15_days, 'userId', \"inner\")\\\n",
    "            .join(user_after12h, 'userId', \"inner\") \\\n",
    "            .join(catagorical_variables, 'userId', \"inner\") \n",
    "    return data\n"
   ]
  },
  {
   "cell_type": "code",
   "execution_count": 70,
   "metadata": {},
   "outputs": [
    {
     "name": "stdout",
     "output_type": "stream",
     "text": [
      "+------+-----+---------------------+----------------+-----------------+----------------+------------------+--------------------------+-----------------------+-----------+-----------+------+--------------+--------+\n",
      "|userId|label|average_itemInSession|  average_length|     total_length|num_unique_songs|num_unique_artists|percentage_use_first15days|percentage_use_after12h|roll_advert|thumbs_down|gender|location_state|platform|\n",
      "+------+-----+---------------------+----------------+-----------------+----------------+------------------+--------------------------+-----------------------+-----------+-----------+------+--------------+--------+\n",
      "|100010|    0|    35.89501312335958|243.421444909091|66940.89735000003|             274|               249|        0.5879265091863517|     0.5118110236220472|          1|          1|     F|            CT|  iPhone|\n",
      "+------+-----+---------------------+----------------+-----------------+----------------+------------------+--------------------------+-----------------------+-----------+-----------+------+--------------+--------+\n",
      "only showing top 1 row\n",
      "\n"
     ]
    }
   ],
   "source": [
    "df_clean = clean_data(df)\n",
    "df_clean_churn = get_variables(df_clean)\n",
    "model_data = get_features(df_clean_churn)\n",
    "model_data.show(1)"
   ]
  },
  {
   "cell_type": "code",
   "execution_count": 71,
   "metadata": {},
   "outputs": [
    {
     "name": "stdout",
     "output_type": "stream",
     "text": [
      "+------+-----+---------------------+--------------+------------+----------------+------------------+--------------------------+-----------------------+-----------+-----------+------+--------------+--------+\n",
      "|userId|label|average_itemInSession|average_length|total_length|num_unique_songs|num_unique_artists|percentage_use_first15days|percentage_use_after12h|roll_advert|thumbs_down|gender|location_state|platform|\n",
      "+------+-----+---------------------+--------------+------------+----------------+------------------+--------------------------+-----------------------+-----------+-----------+------+--------------+--------+\n",
      "|     0|    0|                    0|             0|           0|               0|                 0|                         0|                      0|          0|          0|     0|             0|       0|\n",
      "+------+-----+---------------------+--------------+------------+----------------+------------------+--------------------------+-----------------------+-----------+-----------+------+--------------+--------+\n",
      "\n"
     ]
    }
   ],
   "source": [
    "model_data.agg(*[count(when(isnull(c), c)).alias(c) for c in model_data.columns]).show()"
   ]
  },
  {
   "cell_type": "code",
   "execution_count": 72,
   "metadata": {},
   "outputs": [
    {
     "data": {
      "text/plain": [
       "215"
      ]
     },
     "execution_count": 72,
     "metadata": {},
     "output_type": "execute_result"
    }
   ],
   "source": [
    "model_data.count()"
   ]
  },
  {
   "cell_type": "markdown",
   "metadata": {},
   "source": [
    "# Modeling\n",
    "Split the full dataset into train, test, and validation sets. Test out several of the machine learning methods you learned. Evaluate the accuracy of the various models, tuning parameters as necessary. Determine your winning model based on test accuracy and report results on the validation set. Since the churned users are a fairly small subset, I suggest using F1 score as the metric to optimize."
   ]
  },
  {
   "cell_type": "code",
   "execution_count": 73,
   "metadata": {},
   "outputs": [],
   "source": [
    "# ML pipeline \n",
    "# encode catagorical variables that were string\n",
    "indexer_gender = StringIndexer(inputCol='gender', outputCol='gender_index')\n",
    "#indexer_location_state = StringIndexer(inputCol='location_state', outputCol='location_state_index')\n",
    "indexer_platform = StringIndexer(inputCol='platform', outputCol='platform_index')\n",
    "indexer_roll_advert = StringIndexer(inputCol='roll_advert', outputCol='roll_advert_index')\n",
    "indexer_thumbs_down = StringIndexer(inputCol='thumbs_down', outputCol='thumbs_down_index')\n",
    "\n",
    "\n",
    "# assemble numerical variables to be scaled\n",
    "num_assembler = VectorAssembler(inputCols=['average_itemInSession', 'average_length', 'total_length', 'num_unique_songs', 'num_unique_artists', \n",
    "                                          'percentage_use_first15days', 'percentage_use_after12h'], outputCol='num_features')\n",
    "# scale numerical variables\n",
    "standard_scaler = StandardScaler(inputCol='num_features', outputCol='scaled_features', withStd=True)\n",
    "\n",
    "# assemble numerical variable, percentage variable, and catagorical variable\n",
    "feature_assembler = VectorAssembler(inputCols=['scaled_features', 'gender_index', 'platform_index','roll_advert_index', 'thumbs_down_index'], \n",
    "                                    outputCol='features') #'location_state_index', \n",
    "\n",
    "features_pipeline = Pipeline(stages = [indexer_gender, indexer_platform, indexer_roll_advert, indexer_thumbs_down,\n",
    "                                     num_assembler, standard_scaler, feature_assembler]) #indexer_location_state, \n"
   ]
  },
  {
   "cell_type": "code",
   "execution_count": 74,
   "metadata": {},
   "outputs": [],
   "source": [
    "# Transform the variables in the dataframe to prepare them for training. \n",
    "# This is done before spitting training and test dataset to avoid labels in test set not present in train set\n",
    "# Because we have a very small sample size. \n",
    "model_data_fit = features_pipeline.fit(model_data)\n",
    "model_data_2 = model_data_fit.transform(model_data)"
   ]
  },
  {
   "cell_type": "code",
   "execution_count": 75,
   "metadata": {},
   "outputs": [],
   "source": [
    "# Only the label and features variable in the dataset will be used for prediction\n",
    "model_data_2 = model_data_2.select(['label', 'features'])"
   ]
  },
  {
   "cell_type": "code",
   "execution_count": 76,
   "metadata": {},
   "outputs": [
    {
     "name": "stdout",
     "output_type": "stream",
     "text": [
      "train count: 153\n",
      "test count: 62\n"
     ]
    }
   ],
   "source": [
    "# Split dataset into train and test set\n",
    "train, test = model_data_2.randomSplit([0.7, 0.3], seed=42)\n",
    "print('train count:', train.count())\n",
    "print('test count:', test.count())"
   ]
  },
  {
   "cell_type": "code",
   "execution_count": 77,
   "metadata": {},
   "outputs": [],
   "source": [
    "# Logistic model\n",
    "logistic = LogisticRegression(featuresCol='features', labelCol='label')\n"
   ]
  },
  {
   "cell_type": "code",
   "execution_count": 78,
   "metadata": {},
   "outputs": [],
   "source": [
    "# train logistic model\n",
    "logistic_model = logistic.fit(train)"
   ]
  },
  {
   "cell_type": "code",
   "execution_count": 79,
   "metadata": {},
   "outputs": [],
   "source": [
    "# fit logistic model\n",
    "logistic_predict = logistic_model.transform(test)"
   ]
  },
  {
   "cell_type": "code",
   "execution_count": 80,
   "metadata": {},
   "outputs": [
    {
     "name": "stdout",
     "output_type": "stream",
     "text": [
      "0.7580645161290323\n"
     ]
    }
   ],
   "source": [
    "# Evaluate the accuracy\n",
    "print(logistic_predict.filter(logistic_predict.label == logistic_predict.prediction).count()/logistic_predict.count())"
   ]
  },
  {
   "cell_type": "code",
   "execution_count": 81,
   "metadata": {},
   "outputs": [],
   "source": [
    "# Evaluate model\n",
    "def evaluate_model(pred):\n",
    "    '''\n",
    "    INPUT: pred --> the dataset generated from fitting the trained model on the test data.\n",
    "    OUTPUT: summary --> a summary dictionary including f1 score and the accuracy of the prediction.\n",
    "    \n",
    "    DESCRIPTION: This function calculates the f1 score and accuracy of the prediction model\n",
    "    and prints the results.\n",
    "    \n",
    "    '''  \n",
    "    evaluator = MulticlassClassificationEvaluator(predictionCol=\"prediction\", labelCol=\"label\")\n",
    "    summary = {}\n",
    "    print(\"The evaluation metrics for this model: \")\n",
    "    summary['f1_score'] = evaluator.evaluate(pred, {evaluator.metricName : \"f1\"})\n",
    "    print('The f1 score is: {}'.format(summary['f1_score']))\n",
    "    summary['accuracy'] = evaluator.evaluate(pred, {evaluator.metricName : \"accuracy\"})\n",
    "    print('The accuracy is: {}'.format(summary['accuracy']))\n",
    "    return summary"
   ]
  },
  {
   "cell_type": "code",
   "execution_count": 82,
   "metadata": {},
   "outputs": [
    {
     "name": "stdout",
     "output_type": "stream",
     "text": [
      "The evaluation metrics for this model: \n",
      "The f1 score is: 0.7167911950248311\n",
      "The accuracy is: 0.7580645161290323\n"
     ]
    },
    {
     "data": {
      "text/plain": [
       "{'f1_score': 0.7167911950248311, 'accuracy': 0.7580645161290323}"
      ]
     },
     "execution_count": 82,
     "metadata": {},
     "output_type": "execute_result"
    }
   ],
   "source": [
    "# evaluate the logistic prediction model and print the results\n",
    "evaluate_model(logistic_predict)"
   ]
  },
  {
   "cell_type": "code",
   "execution_count": 83,
   "metadata": {},
   "outputs": [],
   "source": [
    "def get_confusion_matrix(pred):\n",
    "    '''\n",
    "    INPUT: pred --> the dataset generated from fitting the trained model on the test data.\n",
    "    OUTPUT: confusion_matrix --> confusion matrix of the prediction model.\n",
    "    \n",
    "    DESCRIPTION: This function generates the confusion matrix of the prediction model.    \n",
    "    ''' \n",
    "    confusion_matrix = pred.groupby(\"label\").pivot(\"prediction\").count()\n",
    "    return(confusion_matrix)"
   ]
  },
  {
   "cell_type": "code",
   "execution_count": 84,
   "metadata": {},
   "outputs": [
    {
     "name": "stdout",
     "output_type": "stream",
     "text": [
      "+-----+---+---+\n",
      "|label|0.0|1.0|\n",
      "+-----+---+---+\n",
      "|    1| 12|  3|\n",
      "|    0| 44|  3|\n",
      "+-----+---+---+\n",
      "\n"
     ]
    }
   ],
   "source": [
    "# Print out the confusion matrix of the logistic prediction\n",
    "get_confusion_matrix(logistic_predict).show()"
   ]
  },
  {
   "cell_type": "code",
   "execution_count": 85,
   "metadata": {},
   "outputs": [
    {
     "name": "stdout",
     "output_type": "stream",
     "text": [
      "The evaluation metrics for this model: \n",
      "The f1 score is: 0.6900388291517323\n",
      "The accuracy is: 0.7741935483870968\n",
      "+-----+---+----+\n",
      "|label|0.0| 1.0|\n",
      "+-----+---+----+\n",
      "|    1| 14|   1|\n",
      "|    0| 47|null|\n",
      "+-----+---+----+\n",
      "\n"
     ]
    }
   ],
   "source": [
    "# Train, fit and evaluate Random Forest model\n",
    "# Random Forest\n",
    "rforest = RandomForestClassifier(featuresCol='features', labelCol='label') #, maxBins=60\n",
    "\n",
    "rforest_model = rforest.fit(train)\n",
    "rforest_predict = rforest_model.transform(test)\n",
    "summary = evaluate_model(rforest_predict)\n",
    "get_confusion_matrix(rforest_predict).show()"
   ]
  },
  {
   "cell_type": "code",
   "execution_count": 86,
   "metadata": {},
   "outputs": [
    {
     "name": "stdout",
     "output_type": "stream",
     "text": [
      "The evaluation metrics for this model: \n",
      "The f1 score is: 0.7296321497507395\n",
      "The accuracy is: 0.7580645161290323\n",
      "+-----+---+---+\n",
      "|label|0.0|1.0|\n",
      "+-----+---+---+\n",
      "|    1| 11|  4|\n",
      "|    0| 43|  4|\n",
      "+-----+---+---+\n",
      "\n"
     ]
    }
   ],
   "source": [
    "# Train,fit and evaluate Gradient Boosted Trees Classifier\n",
    "# Gradient Boosted Trees Classifier\n",
    "gbtree = GBTClassifier(featuresCol='features', labelCol='label') #, maxBins=60\n",
    "\n",
    "gbtree_model = gbtree.fit(train)\n",
    "gbtree_predict = gbtree_model.transform(test)\n",
    "summary_gbtree = evaluate_model(gbtree_predict)\n",
    "get_confusion_matrix(gbtree_predict).show()"
   ]
  },
  {
   "cell_type": "markdown",
   "metadata": {},
   "source": [
    "# Final Steps\n",
    "Clean up your code, adding comments and renaming variables to make the code easier to read and maintain. Refer to the Spark Project Overview page and Data Scientist Capstone Project Rubric to make sure you are including all components of the capstone project and meet all expectations. Remember, this includes thorough documentation in a README file in a Github repository, as well as a web app or blog post."
   ]
  }
 ],
 "metadata": {
  "kernelspec": {
   "display_name": "Python 3",
   "language": "python",
   "name": "python3"
  },
  "language_info": {
   "codemirror_mode": {
    "name": "ipython",
    "version": 3
   },
   "file_extension": ".py",
   "mimetype": "text/x-python",
   "name": "python",
   "nbconvert_exporter": "python",
   "pygments_lexer": "ipython3",
   "version": "3.6.3"
  }
 },
 "nbformat": 4,
 "nbformat_minor": 2
}
